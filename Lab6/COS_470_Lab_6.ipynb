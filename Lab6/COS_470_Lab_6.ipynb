{
  "nbformat": 4,
  "nbformat_minor": 0,
  "metadata": {
    "colab": {
      "provenance": []
    },
    "kernelspec": {
      "name": "python3",
      "display_name": "Python 3"
    },
    "language_info": {
      "name": "python"
    },
    "accelerator": "GPU",
    "gpuClass": "standard"
  },
  "cells": [
    {
      "cell_type": "markdown",
      "source": [
        "Download pre-trained Word2Vec model\n"
      ],
      "metadata": {
        "id": "y1uNktQ5fkYZ"
      }
    },
    {
      "cell_type": "code",
      "execution_count": 1,
      "metadata": {
        "id": "Mfg3M1occ0tD",
        "colab": {
          "base_uri": "https://localhost:8080/"
        },
        "outputId": "f776a869-8979-4114-8ff2-dcf83deba4ba"
      },
      "outputs": [
        {
          "output_type": "stream",
          "name": "stdout",
          "text": [
            "[=================================================-] 98.4% 31.1/31.6MB downloaded"
          ]
        }
      ],
      "source": [
        "import gensim.downloader as api\n",
        "from gensim.models.word2vec import Word2Vec\n",
        "\n",
        "corpus = api.load('text8')\n",
        "model = Word2Vec(corpus)"
      ]
    },
    {
      "cell_type": "markdown",
      "source": [
        "Getting embedding of a sentence"
      ],
      "metadata": {
        "id": "UDDHVMNtfpTn"
      }
    },
    {
      "cell_type": "code",
      "source": [
        "import numpy as np\n",
        "\n",
        "def get_sentence_embedding(model, text):\n",
        "  # This method takes in the trained model and the input sentence\n",
        "  # and returns the embedding of the sentence as the average embedding\n",
        "  # of its words\n",
        "  words = text.split(\" \")\n",
        "  count = 0\n",
        "  for i in range(1, len(words)):\n",
        "    try:\n",
        "      if count == 0:\n",
        "        vector = model.wv[words[i]]\n",
        "      else: \n",
        "        vector = np.copy(vector+model.wv[words[i]])\n",
        "      count+=1\n",
        "    except:\n",
        "      continue\n",
        "  return vector/count\n",
        "\n",
        "# Sample code to extract vector for a sentence\n",
        "get_sentence_embedding(model, \"test text embedding\")"
      ],
      "metadata": {
        "id": "evXtyPGDfsXH",
        "colab": {
          "base_uri": "https://localhost:8080/"
        },
        "outputId": "632677e2-7fdb-43d5-f874-678308a02c5d"
      },
      "execution_count": 2,
      "outputs": [
        {
          "output_type": "execute_result",
          "data": {
            "text/plain": [
              "array([-0.08376133, -0.9289037 ,  0.4130277 , -0.5068819 , -0.78874326,\n",
              "        0.00345826,  0.09388144, -0.32165807, -0.34410477,  0.2013706 ,\n",
              "        1.0782555 , -1.4301363 , -1.2114264 , -0.8589715 ,  0.15323865,\n",
              "        1.4254931 ,  2.2975044 , -0.2661055 ,  0.7543904 , -0.9411038 ,\n",
              "       -1.9477545 , -0.04437305, -0.20690708, -0.59357923, -0.23758967,\n",
              "        0.60521877, -0.26197624, -2.0989418 , -1.0121778 ,  0.6676285 ,\n",
              "        0.38765115,  0.07024391, -1.6230764 ,  0.24267915,  0.8533506 ,\n",
              "        0.9953644 ,  0.37040257,  0.3861176 , -0.17236674,  0.564075  ,\n",
              "       -0.09787644, -0.77375895,  1.0915526 , -0.04957333,  0.36103123,\n",
              "        0.3871519 , -0.3388389 , -0.6741001 , -0.691586  , -0.31825435,\n",
              "        1.0270845 ,  0.877773  , -1.114794  , -0.09082717, -0.31791723,\n",
              "       -0.42863777, -0.05935358, -0.2540052 , -0.24246345, -0.20529038,\n",
              "        0.49970686, -0.7222092 ,  0.40263417,  0.26425895,  0.68524355,\n",
              "       -0.8587611 , -0.13122457,  2.05064   ,  0.19697547,  0.06825127,\n",
              "       -1.3883247 , -0.9638254 , -0.04342511, -1.0221331 , -0.17224243,\n",
              "        0.64618087,  0.61789423, -0.95480675, -0.1531771 ,  1.0036204 ,\n",
              "        0.02270283,  0.6606972 , -0.5984382 ,  0.5073994 ,  0.04866514,\n",
              "        0.3203207 , -0.0747486 ,  1.9415208 ,  0.45184958, -0.26782423,\n",
              "       -0.6549118 ,  0.4618592 ,  0.15708017, -0.5209125 ,  0.8379481 ,\n",
              "        0.6262559 ,  0.19166034,  0.504814  ,  0.39734536,  0.24039724],\n",
              "      dtype=float32)"
            ]
          },
          "metadata": {},
          "execution_count": 2
        }
      ]
    },
    {
      "cell_type": "markdown",
      "source": [
        "Reading TSV file and saving embeddings"
      ],
      "metadata": {
        "id": "WbhkT9ECgqM_"
      }
    },
    {
      "cell_type": "code",
      "source": [
        "import pandas as pd\n",
        "\n",
        "def read_tweets_get_vectors(tweet_file_path):\n",
        "  # This method takes in the file path for the twitter file, and return a\n",
        "  # dicationary of dictionaries. In the first dictionary the keys are the\n",
        "  # tweet labels (3 classes), and the values are another dictionary with\n",
        "  # tweet id as the key and values are tuple of (vector, tweet text)\n",
        "    df = pd.read_csv(tweet_file_path, sep=',', header=0)\n",
        "    dic_result = {}\n",
        "    df1 = df[['tweet_id', 'text', 'airline_sentiment']]\n",
        "    for index in range(len(df1)):\n",
        "        try:\n",
        "            vetor_rep = get_sentence_embedding(model, df.loc[index, \"text\"].lower())\n",
        "            label = df.loc[index, \"airline_sentiment\"]\n",
        "            tweet_id = df.loc[index, \"tweet_id\"]\n",
        "            if label in dic_result:\n",
        "                dic_result[label][tweet_id] = (vetor_rep, df.loc[index, \"text\"].lower())\n",
        "            else:\n",
        "                dic_result[label] = {tweet_id: (vetor_rep, df.loc[index, \"text\"].lower())}\n",
        "        except:\n",
        "            pass\n",
        "    return dic_result\n",
        "\n",
        "twitter_data = read_tweets_get_vectors(\"Tweets.csv\")\n",
        "for key in twitter_data.keys():\n",
        "  print(key + \"\\t\\t number of instances: \" + str(len(twitter_data[key])))"
      ],
      "metadata": {
        "id": "u30ytolQgt7O",
        "colab": {
          "base_uri": "https://localhost:8080/"
        },
        "outputId": "81ac2392-eed5-40d5-ed5e-40d582247f3a"
      },
      "execution_count": 3,
      "outputs": [
        {
          "output_type": "stream",
          "name": "stdout",
          "text": [
            "neutral\t\t number of instances: 3005\n",
            "positive\t\t number of instances: 2263\n",
            "negative\t\t number of instances: 8997\n"
          ]
        }
      ]
    },
    {
      "cell_type": "markdown",
      "source": [
        "Code to generate training, validation, and test sets"
      ],
      "metadata": {
        "id": "qkN4pKvwRlVp"
      }
    },
    {
      "cell_type": "code",
      "source": [
        "import random\n",
        "\n",
        "def split_data(twitter_data):\n",
        "  # takes in the dictionary from the previous step and generate\n",
        "  # the training, validation, and test sets. Note that the labels \n",
        "  # are represented as one-hot codings.\n",
        "    training_x = []\n",
        "    training_y = []\n",
        "\n",
        "    validation_x = []\n",
        "    validation_y = []\n",
        "\n",
        "    test_x = []\n",
        "    test_y = []\n",
        "\n",
        "    for label in twitter_data:\n",
        "\n",
        "        # labels are indicated as one hot coding [negative, neutral, positive]\n",
        "        if label == \"negative\":\n",
        "            n_label = [1, 0, 0]\n",
        "        elif label == \"neutral\":\n",
        "            n_label = [0, 1, 0]\n",
        "        else:\n",
        "            n_label = [0, 0, 1]\n",
        "        temp_dic = twitter_data[label]\n",
        "        lst_tweet_ids = list(temp_dic.keys())\n",
        "        #### Splitting by 80-10-10\n",
        "        ## Note that you could alternatively use sklearn split method\n",
        "        train_length = int(len(lst_tweet_ids)*0.8)\n",
        "        train_ids = lst_tweet_ids[ :train_length]\n",
        "        remaining = lst_tweet_ids[train_length:]\n",
        "        test_lenght = int(len(remaining)*0.5)\n",
        "        test_ids = remaining[:test_lenght]\n",
        "        validation_id = remaining[test_lenght:]\n",
        "\n",
        "        for tweet_id in train_ids:\n",
        "            training_x.append(temp_dic[tweet_id][0])\n",
        "            training_y.append(n_label)\n",
        "        for tweet_id in validation_id:\n",
        "            validation_x.append(temp_dic[tweet_id][0])\n",
        "            validation_y.append(n_label)\n",
        "        for tweet_id in test_ids:\n",
        "            test_x.append(temp_dic[tweet_id][0])\n",
        "            test_y.append(n_label)\n",
        "\n",
        "    # The reason we apply this shuffling is to make sure \n",
        "    # when passing batches to the network, we see different items \n",
        "    c = list(zip(training_x, training_y))\n",
        "    random.shuffle(c)\n",
        "    training_x, training_y = zip(*c)\n",
        "\n",
        "    return training_x, training_y, validation_x, validation_y, test_x, test_y\n",
        "\n",
        "# Sample usage\n",
        "training_x, training_y, validation_x, validation_y, test_x, test_y = split_data(twitter_data)"
      ],
      "metadata": {
        "id": "5TcXsEVYuYab"
      },
      "execution_count": 4,
      "outputs": []
    },
    {
      "cell_type": "markdown",
      "source": [
        "Here goes your code for your Feedfoward network Design"
      ],
      "metadata": {
        "id": "1kEhk44VbwtQ"
      }
    },
    {
      "cell_type": "code",
      "source": [
        "import torch.nn as nn\n",
        "import torch.nn.functional as F\n",
        "import torch.optim as optim\n",
        "import torch\n",
        "\n",
        "\n",
        "class FeedforwardNeuralNetModel(nn.Module):\n",
        "    def __init__(self, input_dim, hidden_dim_1, hidden_dim_2, hidden_dim_3, p, output_dim):\n",
        "        super(FeedforwardNeuralNetModel, self).__init__()\n",
        "        # Define the neural network layers\n",
        "        self.layers = nn.Sequential(\n",
        "            nn.Linear(input_dim, hidden_dim_1),\n",
        "            nn.ReLU(),\n",
        "            nn.Dropout(p),\n",
        "            #nn.BatchNorm1d(hidden_dim_1),\n",
        "            nn.Linear(hidden_dim_1, hidden_dim_2),\n",
        "            nn.ReLU(),\n",
        "            nn.Dropout(p),\n",
        "            #nn.BatchNorm1d(hidden_dim_2),\n",
        "            nn.Linear(hidden_dim_2, hidden_dim_3),\n",
        "            nn.ReLU(),\n",
        "            nn.Dropout(p),\n",
        "            #nn.BatchNorm1d(hidden_dim_3),\n",
        "            nn.Linear(hidden_dim_3, output_dim)\n",
        "        )\n",
        "\n",
        "    def forward(self, x):\n",
        "        # Your network forward pass\n",
        "        x = self.layers(x)\n",
        "        # Sigmoid activation\n",
        "        out = torch.sigmoid(x)\n",
        "        return out"
      ],
      "metadata": {
        "id": "6WEyopGmd5fn"
      },
      "execution_count": 5,
      "outputs": []
    },
    {
      "cell_type": "code",
      "source": [
        "count = 0"
      ],
      "metadata": {
        "id": "HwULuLV8X7aj"
      },
      "execution_count": null,
      "outputs": []
    },
    {
      "cell_type": "markdown",
      "source": [
        "Training the network\n",
        "Define a class, with properties such as size of hidden layers\n",
        "loss function, optimizer, training method, test method, and accuracy"
      ],
      "metadata": {
        "id": "Ojspmxozek-V"
      }
    },
    {
      "cell_type": "markdown",
      "source": [
        "###FeedForward Neural Network"
      ],
      "metadata": {
        "id": "wbfmlapA_w0w"
      }
    },
    {
      "cell_type": "code",
      "source": [
        "from tqdm import tqdm\n",
        "\n",
        "class ModelModule():\n",
        "  device = torch.device(\"cuda\" if torch.cuda.is_available() else \"cpu\")\n",
        "  # here goes your parameters\n",
        "  input_dim = 100\n",
        "  hidden_dim_1 = 128\n",
        "  hidden_dim_2 = 64\n",
        "  hidden_dim_3 = 32\n",
        "  p = 0.5\n",
        "  output_dim = 3\n",
        "\n",
        "  # sample code to define your model \n",
        "  model = FeedforwardNeuralNetModel(input_dim, hidden_dim_1, hidden_dim_2, hidden_dim_3, p, output_dim)\n",
        "  model.to(device)\n",
        "\n",
        "\n",
        "  def calculate_accuracy(self, y_true, y_pred):\n",
        "    # this method will be used to calculate the accuracy of your model\n",
        "      correct = (y_true.argmax (dim = 1) == y_pred.argmax (dim = 1)).float()\n",
        "      acc = correct.sum() / len(correct)\n",
        "      return acc\n",
        "\n",
        "  def training(self, tfidfX_train, Y_train, tfidfX_val, Y_val, num_epochs):\n",
        "    global count\n",
        "    # this method will be used for training your model\n",
        "    # inputs are the training and validation sets\n",
        "    Y_train_probs = torch.nn.functional.softmax(Y_train.float(), dim=1)\n",
        "    # You can define batch size of your choice\n",
        "    batch_size = 512\n",
        "    X_train_mini_batches = torch.split(tfidfX_train, batch_size)\n",
        "    Y_train_mini_batches = torch.split(Y_train, batch_size)\n",
        "\n",
        "    train_losses = []\n",
        "    train_accuracies = []\n",
        "    val_losses = []\n",
        "    val_accuracies = []\n",
        "\n",
        "    best_accuracy = 0\n",
        "    best_val_loss = float('inf')\n",
        "    # Define your optimizer (e.g. Adam optimizer with a learning rate of 0.001)\n",
        "    optimizer = torch.optim.Adam(self.model.parameters(), lr=0.0003, weight_decay= 0.0001)\n",
        "\n",
        "    # Define your loss function (e.g. Cross Entropy Loss)\n",
        "    loss_fn = nn.CrossEntropyLoss()\n",
        "\n",
        "    # Set the model to training mode\n",
        "    self.model.train()\n",
        "    for epoch in tqdm(range(num_epochs)):\n",
        "        epoch_loss = 0\n",
        "        epoch_accuracy = 0\n",
        "        for X_train_mini_batch, Y_train_mini_batch in zip(X_train_mini_batches, Y_train_mini_batches):\n",
        "            X_train_mini_batch = X_train_mini_batch.to(self.device)\n",
        "            Y_train_mini_batch = Y_train_mini_batch.to(self.device)\n",
        "\n",
        "            # Convert integer labels to class probabilities\n",
        "            Y_train_mini_batch_probs = torch.nn.functional.softmax(Y_train_mini_batch.float(), dim=1)\n",
        "\n",
        "            # Zero the gradients\n",
        "            optimizer.zero_grad()\n",
        "\n",
        "            # Forward pass\n",
        "            y_pred = self.model(X_train_mini_batch)\n",
        "\n",
        "            # Compute the loss\n",
        "            loss = loss_fn(y_pred, Y_train_mini_batch_probs)\n",
        "\n",
        "            # Backward pass\n",
        "            loss.backward()\n",
        "\n",
        "            # Update the weights\n",
        "            optimizer.step()\n",
        "\n",
        "            # Update the epoch loss and accuracy\n",
        "            epoch_loss += loss.item()\n",
        "            epoch_accuracy += self.calculate_accuracy(Y_train_mini_batch_probs, y_pred).item()\n",
        "\n",
        "        # Compute the average epoch loss and accuracy\n",
        "        epoch_loss /= len(X_train_mini_batches)\n",
        "        epoch_accuracy /= len(X_train_mini_batches)\n",
        "\n",
        "        # Append the training loss and accuracy to their lists\n",
        "        train_losses.append(epoch_loss)\n",
        "        train_accuracies.append(epoch_accuracy)\n",
        "\n",
        "        # Evaluate the model on the validation set\n",
        "        with torch.no_grad():\n",
        "            # Set the model to evaluation mode\n",
        "            self.model.eval()\n",
        "\n",
        "            # Forward pass\n",
        "            y_val_pred = self.model(tfidfX_val.to(self.device))\n",
        "\n",
        "            # Convert integer labels to class probabilities\n",
        "            Y_val_probs = torch.nn.functional.softmax(Y_val.float(), dim=1)\n",
        "\n",
        "            # Compute the validation loss and accuracy\n",
        "            val_loss = loss_fn(y_val_pred, Y_val_probs.to(self.device)).item()\n",
        "            val_accuracy = self.calculate_accuracy(Y_val_probs.to(self.device), y_val_pred).item()\n",
        "\n",
        "        # Append the validation loss and accuracy to their lists\n",
        "        val_losses.append(val_loss)\n",
        "        val_accuracies.append(val_accuracy)\n",
        "\n",
        "        # Save the model if it achieves the best accuracy on the validation set\n",
        "        if val_accuracy > best_accuracy:\n",
        "            count = epoch\n",
        "            torch.save(self.model.state_dict(), 'best_model.pth')\n",
        "            best_accuracy = val_accuracy\n",
        "        #if val_loss < best_val_loss:\n",
        "        #    count = epoch\n",
        "        #    torch.save(self.model.state_dict(), 'best_model.pth')\n",
        "        #    best_val_loss = val_loss\n",
        "    import matplotlib.pyplot as plt\n",
        "    # Plot the training and validation loss and accuracy\n",
        "    plt.figure()\n",
        "    plt.plot(train_losses, label='Training Loss')\n",
        "    plt.plot(val_losses, label='Validation Loss')\n",
        "    plt.legend()\n",
        "    plt.xlabel('Epoch')\n",
        "    plt.ylabel('Loss')\n",
        "    plt.title('Training and Validation Loss')\n",
        "    plt.show()\n",
        "\n",
        "    plt.figure()\n",
        "    plt.plot(train_accuracies, label='Training Accuracy')\n",
        "    plt.plot(val_accuracies, label='Validation Accuracy')\n",
        "    plt.legend()\n",
        "    plt.xlabel('Epoch')\n",
        "    plt.ylabel('Accuracy')\n",
        "    plt.title('Training and Validation Accuracy')\n",
        "    plt.show()\n",
        "\n",
        "  def predict(self, tfidfX_test):\n",
        "    # Load the trained model from the saved state dict\n",
        "    self.model.load_state_dict(torch.load('best_model.pth'))\n",
        "    self.model.to(self.device)\n",
        "    \n",
        "    # Set the model to evaluation mode\n",
        "    self.model.eval()\n",
        "\n",
        "    # Forward pass\n",
        "    with torch.no_grad():\n",
        "        y_test_pred = self.model(tfidfX_test.to(self.device))\n",
        "\n",
        "    return y_test_pred\n",
        "    "
      ],
      "metadata": {
        "id": "FFxp3soniWTv"
      },
      "execution_count": 207,
      "outputs": []
    },
    {
      "cell_type": "code",
      "source": [
        "training_x_1d = np.array(training_x)\n",
        "validation_x_1d = np.array(validation_x)\n",
        "test_x_1d = np.array(test_x)\n",
        "\n",
        "training_x_tensor = torch.tensor(training_x_1d )\n",
        "validation_x_tensor = torch.tensor(validation_x_1d)\n",
        "test_x_tensor = torch.tensor(test_x_1d)\n",
        "\n",
        "# Convert labels to tensors\n",
        "training_y_1d = np.array(training_y)\n",
        "validation_y_1d = np.array(validation_y)\n",
        "test_y_1d = np.array(test_y)\n",
        "\n",
        "training_y_tensor = torch.tensor(training_y_1d)\n",
        "validation_y_tensor = torch.tensor(validation_y_1d)\n",
        "test_y_tensor = torch.tensor(test_y_1d)\n",
        "\n",
        "# Create an instance of your model module\n",
        "model_module = ModelModule()\n",
        "\n",
        "# Train the model\n",
        "model_module.training(training_x_tensor, training_y_tensor, validation_x_tensor, validation_y_tensor, num_epochs=100)\n",
        "\n"
      ],
      "metadata": {
        "colab": {
          "base_uri": "https://localhost:8080/",
          "height": 944
        },
        "id": "Mffq0gO8jGXJ",
        "outputId": "d605b78b-965a-4677-a4b8-5e9840894e2f"
      },
      "execution_count": 208,
      "outputs": [
        {
          "output_type": "stream",
          "name": "stderr",
          "text": [
            "100%|██████████| 100/100 [00:06<00:00, 15.49it/s]\n"
          ]
        },
        {
          "output_type": "display_data",
          "data": {
            "text/plain": [
              "<Figure size 640x480 with 1 Axes>"
            ],
            "image/png": "[encoded data removed]"
          },
          "metadata": {}
        },
        {
          "output_type": "display_data",
          "data": {
            "text/plain": [
              "<Figure size 640x480 with 1 Axes>"
            ],
            "image/png": "[encoded data removed]"
          },
          "metadata": {}
        }
      ]
    },
    {
      "cell_type": "code",
      "source": [
        "# Test the model\n",
        "y_test_pred = model_module.predict(test_x_tensor)\n",
        "\n",
        "# Calculate test accuracy\n",
        "test_accuracy = model_module.calculate_accuracy(test_y_tensor.to(model_module.device), y_test_pred).item()\n",
        "print(f\"Test accuracy: {test_accuracy}\")\n",
        "print(f\"best epoch: {count}\")\n",
        "# Test accuracy: 0.7328190803527832\n",
        "# best epoch: 69\n",
        "#input_dim = 100\n",
        "#hidden_dim_1 = 128\n",
        "#hidden_dim_2 = 64\n",
        "#hidden_dim_3 = 32\n",
        "#p = 0.5\n",
        "#output_dim = 3\n",
        "#batch size = 512\n",
        "#optimizer = torch.optim.Adam(self.model.parameters(), lr=0.0003, weight_decay= 0.0001)\n"
      ],
      "metadata": {
        "colab": {
          "base_uri": "https://localhost:8080/"
        },
        "id": "vYbbyJl7iYOw",
        "outputId": "8aefaf4f-e44a-4b23-85f9-5bd3c8269ec1"
      },
      "execution_count": 209,
      "outputs": [
        {
          "output_type": "stream",
          "name": "stdout",
          "text": [
            "Test accuracy: 0.7328190803527832\n",
            "best epoch: 69\n"
          ]
        }
      ]
    }
  ]
}