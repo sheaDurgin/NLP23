{
  "nbformat": 4,
  "nbformat_minor": 0,
  "metadata": {
    "colab": {
      "provenance": []
    },
    "kernelspec": {
      "name": "python3",
      "display_name": "Python 3"
    },
    "language_info": {
      "name": "python"
    },
    "accelerator": "GPU",
    "gpuClass": "standard"
  },
  "cells": [
    {
      "cell_type": "markdown",
      "source": [
        "Installing PyTerrier is easy - it can be installed from the command-line in the normal way using Pip"
      ],
      "metadata": {
        "id": "hOLE3Fvn67Pf"
      }
    },
    {
      "cell_type": "code",
      "source": [
        "!pip install python-terrier"
      ],
      "metadata": {
        "id": "5KjVwv8btasg",
        "colab": {
          "base_uri": "https://localhost:8080/"
        },
        "outputId": "4d7eccff-7351-4468-f871-d6c301300dbe"
      },
      "execution_count": null,
      "outputs": [
        {
          "output_type": "stream",
          "name": "stdout",
          "text": [
            "Looking in indexes: https://pypi.org/simple, https://us-python.pkg.dev/colab-wheels/public/simple/\n",
            "Collecting python-terrier\n",
            "  Downloading python-terrier-0.9.2.tar.gz (104 kB)\n",
            "\u001b[2K     \u001b[90m━━━━━━━━━━━━━━━━━━━━━━━━━━━━━━━━━━━━━━━\u001b[0m \u001b[32m104.4/104.4 kB\u001b[0m \u001b[31m1.9 MB/s\u001b[0m eta \u001b[36m0:00:00\u001b[0m\n",
            "\u001b[?25h  Preparing metadata (setup.py) ... \u001b[?25l\u001b[?25hdone\n",
            "Requirement already satisfied: numpy in /usr/local/lib/python3.9/dist-packages (from python-terrier) (1.22.4)\n",
            "Requirement already satisfied: pandas in /usr/local/lib/python3.9/dist-packages (from python-terrier) (1.5.3)\n",
            "Collecting wget\n",
            "  Downloading wget-3.2.zip (10 kB)\n",
            "  Preparing metadata (setup.py) ... \u001b[?25l\u001b[?25hdone\n",
            "Requirement already satisfied: tqdm in /usr/local/lib/python3.9/dist-packages (from python-terrier) (4.65.0)\n",
            "Collecting pyjnius>=1.4.2\n",
            "  Downloading pyjnius-1.4.2-cp39-cp39-manylinux_2_17_x86_64.manylinux2014_x86_64.whl (1.5 MB)\n",
            "\u001b[2K     \u001b[90m━━━━━━━━━━━━━━━━━━━━━━━━━━━━━━━━━━━━━━━━\u001b[0m \u001b[32m1.5/1.5 MB\u001b[0m \u001b[31m47.7 MB/s\u001b[0m eta \u001b[36m0:00:00\u001b[0m\n",
            "\u001b[?25hCollecting matchpy\n",
            "  Downloading matchpy-0.5.5-py3-none-any.whl (69 kB)\n",
            "\u001b[2K     \u001b[90m━━━━━━━━━━━━━━━━━━━━━━━━━━━━━━━━━━━━━━━━\u001b[0m \u001b[32m69.6/69.6 kB\u001b[0m \u001b[31m2.2 MB/s\u001b[0m eta \u001b[36m0:00:00\u001b[0m\n",
            "\u001b[?25hRequirement already satisfied: scikit-learn in /usr/local/lib/python3.9/dist-packages (from python-terrier) (1.2.2)\n",
            "Collecting deprecated\n",
            "  Downloading Deprecated-1.2.13-py2.py3-none-any.whl (9.6 kB)\n",
            "Collecting chest\n",
            "  Downloading chest-0.2.3.tar.gz (9.6 kB)\n",
            "  Preparing metadata (setup.py) ... \u001b[?25l\u001b[?25hdone\n",
            "Requirement already satisfied: scipy in /usr/local/lib/python3.9/dist-packages (from python-terrier) (1.10.1)\n",
            "Requirement already satisfied: requests in /usr/local/lib/python3.9/dist-packages (from python-terrier) (2.27.1)\n",
            "Requirement already satisfied: joblib in /usr/local/lib/python3.9/dist-packages (from python-terrier) (1.2.0)\n",
            "Collecting nptyping==1.4.4\n",
            "  Downloading nptyping-1.4.4-py3-none-any.whl (31 kB)\n",
            "Requirement already satisfied: more_itertools in /usr/local/lib/python3.9/dist-packages (from python-terrier) (9.1.0)\n",
            "Collecting ir_datasets>=0.3.2\n",
            "  Downloading ir_datasets-0.5.4-py3-none-any.whl (311 kB)\n",
            "\u001b[2K     \u001b[90m━━━━━━━━━━━━━━━━━━━━━━━━━━━━━━━━━━━━━━\u001b[0m \u001b[32m311.5/311.5 kB\u001b[0m \u001b[31m18.8 MB/s\u001b[0m eta \u001b[36m0:00:00\u001b[0m\n",
            "\u001b[?25hRequirement already satisfied: jinja2 in /usr/local/lib/python3.9/dist-packages (from python-terrier) (3.1.2)\n",
            "Requirement already satisfied: statsmodels in /usr/local/lib/python3.9/dist-packages (from python-terrier) (0.13.5)\n",
            "Collecting ir_measures>=0.3.1\n",
            "  Downloading ir_measures-0.3.1.tar.gz (46 kB)\n",
            "\u001b[2K     \u001b[90m━━━━━━━━━━━━━━━━━━━━━━━━━━━━━━━━━━━━━━━━\u001b[0m \u001b[32m46.5/46.5 kB\u001b[0m \u001b[31m5.9 MB/s\u001b[0m eta \u001b[36m0:00:00\u001b[0m\n",
            "\u001b[?25h  Preparing metadata (setup.py) ... \u001b[?25l\u001b[?25hdone\n",
            "Collecting dill\n",
            "  Downloading dill-0.3.6-py3-none-any.whl (110 kB)\n",
            "\u001b[2K     \u001b[90m━━━━━━━━━━━━━━━━━━━━━━━━━━━━━━━━━━━━━━━\u001b[0m \u001b[32m110.5/110.5 kB\u001b[0m \u001b[31m5.8 MB/s\u001b[0m eta \u001b[36m0:00:00\u001b[0m\n",
            "\u001b[?25hCollecting pytrec_eval_terrier>=0.5.3\n",
            "  Downloading pytrec_eval_terrier-0.5.5-cp39-cp39-manylinux_2_17_x86_64.manylinux2014_x86_64.whl (287 kB)\n",
            "\u001b[2K     \u001b[90m━━━━━━━━━━━━━━━━━━━━━━━━━━━━━━━━━━━━━━\u001b[0m \u001b[32m287.2/287.2 kB\u001b[0m \u001b[31m31.4 MB/s\u001b[0m eta \u001b[36m0:00:00\u001b[0m\n",
            "\u001b[?25hCollecting typish>=1.7.0\n",
            "  Downloading typish-1.9.3-py3-none-any.whl (45 kB)\n",
            "\u001b[2K     \u001b[90m━━━━━━━━━━━━━━━━━━━━━━━━━━━━━━━━━━━━━━━━\u001b[0m \u001b[32m45.1/45.1 kB\u001b[0m \u001b[31m6.6 MB/s\u001b[0m eta \u001b[36m0:00:00\u001b[0m\n",
            "\u001b[?25hRequirement already satisfied: lxml>=4.5.2 in /usr/local/lib/python3.9/dist-packages (from ir_datasets>=0.3.2->python-terrier) (4.9.2)\n",
            "Collecting lz4>=3.1.1\n",
            "  Downloading lz4-4.3.2-cp39-cp39-manylinux_2_17_x86_64.manylinux2014_x86_64.whl (1.3 MB)\n",
            "\u001b[2K     \u001b[90m━━━━━━━━━━━━━━━━━━━━━━━━━━━━━━━━━━━━━━━━\u001b[0m \u001b[32m1.3/1.3 MB\u001b[0m \u001b[31m66.1 MB/s\u001b[0m eta \u001b[36m0:00:00\u001b[0m\n",
            "\u001b[?25hCollecting warc3-wet>=0.2.3\n",
            "  Downloading warc3_wet-0.2.3-py3-none-any.whl (13 kB)\n",
            "Collecting zlib-state>=0.1.3\n",
            "  Downloading zlib_state-0.1.5-cp39-cp39-manylinux2010_x86_64.whl (71 kB)\n",
            "\u001b[2K     \u001b[90m━━━━━━━━━━━━━━━━━━━━━━━━━━━━━━━━━━━━━━━━\u001b[0m \u001b[32m72.0/72.0 kB\u001b[0m \u001b[31m10.5 MB/s\u001b[0m eta \u001b[36m0:00:00\u001b[0m\n",
            "\u001b[?25hCollecting ijson>=3.1.3\n",
            "  Downloading ijson-3.2.0.post0-cp39-cp39-manylinux_2_17_x86_64.manylinux2014_x86_64.whl (112 kB)\n",
            "\u001b[2K     \u001b[90m━━━━━━━━━━━━━━━━━━━━━━━━━━━━━━━━━━━━━━\u001b[0m \u001b[32m112.5/112.5 kB\u001b[0m \u001b[31m16.4 MB/s\u001b[0m eta \u001b[36m0:00:00\u001b[0m\n",
            "\u001b[?25hRequirement already satisfied: beautifulsoup4>=4.4.1 in /usr/local/lib/python3.9/dist-packages (from ir_datasets>=0.3.2->python-terrier) (4.11.2)\n",
            "Requirement already satisfied: pyyaml>=5.3.1 in /usr/local/lib/python3.9/dist-packages (from ir_datasets>=0.3.2->python-terrier) (6.0)\n",
            "Collecting trec-car-tools>=2.5.4\n",
            "  Downloading trec_car_tools-2.6-py3-none-any.whl (8.4 kB)\n",
            "Collecting warc3-wet-clueweb09>=0.2.5\n",
            "  Downloading warc3-wet-clueweb09-0.2.5.tar.gz (17 kB)\n",
            "  Preparing metadata (setup.py) ... \u001b[?25l\u001b[?25hdone\n",
            "Collecting pyautocorpus>=0.1.1\n",
            "  Downloading pyautocorpus-0.1.9-cp39-cp39-manylinux_2_12_x86_64.manylinux2010_x86_64.whl (293 kB)\n",
            "\u001b[2K     \u001b[90m━━━━━━━━━━━━━━━━━━━━━━━━━━━━━━━━━━━━━━\u001b[0m \u001b[32m293.3/293.3 kB\u001b[0m \u001b[31m32.0 MB/s\u001b[0m eta \u001b[36m0:00:00\u001b[0m\n",
            "\u001b[?25hCollecting unlzw3>=0.2.1\n",
            "  Downloading unlzw3-0.2.2-py3-none-any.whl (6.1 kB)\n",
            "Collecting cwl-eval>=1.0.10\n",
            "  Downloading cwl-eval-1.0.12.tar.gz (31 kB)\n",
            "  Preparing metadata (setup.py) ... \u001b[?25l\u001b[?25hdone\n",
            "Requirement already satisfied: six>=1.7.0 in /usr/local/lib/python3.9/dist-packages (from pyjnius>=1.4.2->python-terrier) (1.16.0)\n",
            "Requirement already satisfied: certifi>=2017.4.17 in /usr/local/lib/python3.9/dist-packages (from requests->python-terrier) (2022.12.7)\n",
            "Requirement already satisfied: idna<4,>=2.5 in /usr/local/lib/python3.9/dist-packages (from requests->python-terrier) (3.4)\n",
            "Requirement already satisfied: charset-normalizer~=2.0.0 in /usr/local/lib/python3.9/dist-packages (from requests->python-terrier) (2.0.12)\n",
            "Requirement already satisfied: urllib3<1.27,>=1.21.1 in /usr/local/lib/python3.9/dist-packages (from requests->python-terrier) (1.26.15)\n",
            "Requirement already satisfied: heapdict in /usr/local/lib/python3.9/dist-packages (from chest->python-terrier) (1.0.1)\n",
            "Requirement already satisfied: wrapt<2,>=1.10 in /usr/local/lib/python3.9/dist-packages (from deprecated->python-terrier) (1.14.1)\n",
            "Requirement already satisfied: MarkupSafe>=2.0 in /usr/local/lib/python3.9/dist-packages (from jinja2->python-terrier) (2.1.2)\n",
            "Collecting multiset<3.0,>=2.0\n",
            "  Downloading multiset-2.1.1-py2.py3-none-any.whl (8.8 kB)\n",
            "Requirement already satisfied: pytz>=2020.1 in /usr/local/lib/python3.9/dist-packages (from pandas->python-terrier) (2022.7.1)\n",
            "Requirement already satisfied: python-dateutil>=2.8.1 in /usr/local/lib/python3.9/dist-packages (from pandas->python-terrier) (2.8.2)\n",
            "Requirement already satisfied: threadpoolctl>=2.0.0 in /usr/local/lib/python3.9/dist-packages (from scikit-learn->python-terrier) (3.1.0)\n",
            "Requirement already satisfied: patsy>=0.5.2 in /usr/local/lib/python3.9/dist-packages (from statsmodels->python-terrier) (0.5.3)\n",
            "Requirement already satisfied: packaging>=21.3 in /usr/local/lib/python3.9/dist-packages (from statsmodels->python-terrier) (23.1)\n",
            "Requirement already satisfied: soupsieve>1.2 in /usr/local/lib/python3.9/dist-packages (from beautifulsoup4>=4.4.1->ir_datasets>=0.3.2->python-terrier) (2.4.1)\n",
            "Collecting cbor>=1.0.0\n",
            "  Downloading cbor-1.0.0.tar.gz (20 kB)\n",
            "  Preparing metadata (setup.py) ... \u001b[?25l\u001b[?25hdone\n",
            "Building wheels for collected packages: python-terrier, ir_measures, chest, wget, cwl-eval, warc3-wet-clueweb09, cbor\n",
            "  Building wheel for python-terrier (setup.py) ... \u001b[?25l\u001b[?25hdone\n",
            "  Created wheel for python-terrier: filename=python_terrier-0.9.2-py3-none-any.whl size=112280 sha256=0c8533ae3dd968d26b31e961aa114474b4dbb60e38d39677f886297903e27156\n",
            "  Stored in directory: /root/.cache/pip/wheels/0c/4d/40/9d00263171f82fe37049a60e70a88279ce025c0229110153d4\n",
            "  Building wheel for ir_measures (setup.py) ... \u001b[?25l\u001b[?25hdone\n",
            "  Created wheel for ir_measures: filename=ir_measures-0.3.1-py3-none-any.whl size=60184 sha256=b27b9b506505bdb275380357db42393b75ba9b9c97efa9461e4a044ef8b30180\n",
            "  Stored in directory: /root/.cache/pip/wheels/00/fa/7d/0ba22fce7d11d69df68c31b7c247fbbb28fe2d4c610f8c653f\n",
            "  Building wheel for chest (setup.py) ... \u001b[?25l\u001b[?25hdone\n",
            "  Created wheel for chest: filename=chest-0.2.3-py3-none-any.whl size=7632 sha256=f40e512268da5ffc2a325fa82c78a551640485ceab2193b0309dd39a22b57ff2\n",
            "  Stored in directory: /root/.cache/pip/wheels/ce/05/8e/2ecd3728ed5d938ee57161c8acf2ee74f55f894964bb3d31ef\n",
            "  Building wheel for wget (setup.py) ... \u001b[?25l\u001b[?25hdone\n",
            "  Created wheel for wget: filename=wget-3.2-py3-none-any.whl size=9676 sha256=0068a132cb25c3fd606cf105b193dbb6212ca5b3a62ae67e9acc2c49273eb91a\n",
            "  Stored in directory: /root/.cache/pip/wheels/04/5f/3e/46cc37c5d698415694d83f607f833f83f0149e49b3af9d0f38\n",
            "  Building wheel for cwl-eval (setup.py) ... \u001b[?25l\u001b[?25hdone\n",
            "  Created wheel for cwl-eval: filename=cwl_eval-1.0.12-py3-none-any.whl size=38083 sha256=d95d8a68e9f5acdb9535c80c22ae283ba79ac5431cb389875049efb7dab995ad\n",
            "  Stored in directory: /root/.cache/pip/wheels/0e/52/dc/9d448ff093ccae9b248a41b265d31e2c930eea2d0e84aa29e0\n",
            "  Building wheel for warc3-wet-clueweb09 (setup.py) ... \u001b[?25l\u001b[?25hdone\n",
            "  Created wheel for warc3-wet-clueweb09: filename=warc3_wet_clueweb09-0.2.5-py3-none-any.whl size=18918 sha256=e114115933a11bd657854390209f7da8814e5a8be0cf37e2582778bbcbfed2ea\n",
            "  Stored in directory: /root/.cache/pip/wheels/7f/22/ed/a11944d7fdf4e94c4206a3f760d385122a4d34d8acc12f71a3\n",
            "  Building wheel for cbor (setup.py) ... \u001b[?25l\u001b[?25hdone\n",
            "  Created wheel for cbor: filename=cbor-1.0.0-cp39-cp39-linux_x86_64.whl size=57293 sha256=5020c4abcc122a226fd69b046c64673ec20871edb69d40f3c0d06775daf837dc\n",
            "  Stored in directory: /root/.cache/pip/wheels/ec/10/03/a281e0682ddd4b310431fb25d1a4f53987105267cf46c417f3\n",
            "Successfully built python-terrier ir_measures chest wget cwl-eval warc3-wet-clueweb09 cbor\n",
            "Installing collected packages: wget, warc3-wet-clueweb09, warc3-wet, typish, multiset, ijson, cbor, zlib-state, unlzw3, trec-car-tools, pytrec_eval_terrier, pyjnius, pyautocorpus, nptyping, matchpy, lz4, dill, deprecated, cwl-eval, chest, ir_measures, ir_datasets, python-terrier\n",
            "Successfully installed cbor-1.0.0 chest-0.2.3 cwl-eval-1.0.12 deprecated-1.2.13 dill-0.3.6 ijson-3.2.0.post0 ir_datasets-0.5.4 ir_measures-0.3.1 lz4-4.3.2 matchpy-0.5.5 multiset-2.1.1 nptyping-1.4.4 pyautocorpus-0.1.9 pyjnius-1.4.2 python-terrier-0.9.2 pytrec_eval_terrier-0.5.5 trec-car-tools-2.6 typish-1.9.3 unlzw3-0.2.2 warc3-wet-0.2.3 warc3-wet-clueweb09-0.2.5 wget-3.2 zlib-state-0.1.5\n"
          ]
        }
      ]
    },
    {
      "cell_type": "markdown",
      "source": [
        "If you want the latest version of PyTerrier, you can install direct from the Github repo:"
      ],
      "metadata": {
        "id": "8PheS9ZtuDFF"
      }
    },
    {
      "cell_type": "code",
      "execution_count": null,
      "metadata": {
        "id": "3p2-ISqb6MvN",
        "colab": {
          "base_uri": "https://localhost:8080/"
        },
        "outputId": "279b787e-6b94-4164-a9af-47369063a80c"
      },
      "outputs": [
        {
          "output_type": "stream",
          "name": "stdout",
          "text": [
            "Looking in indexes: https://pypi.org/simple, https://us-python.pkg.dev/colab-wheels/public/simple/\n",
            "Collecting git+https://github.com/terrier-org/pyterrier.git\n",
            "  Cloning https://github.com/terrier-org/pyterrier.git to /tmp/pip-req-build-zctt1vwf\n",
            "  Running command git clone --filter=blob:none --quiet https://github.com/terrier-org/pyterrier.git /tmp/pip-req-build-zctt1vwf\n",
            "  Resolved https://github.com/terrier-org/pyterrier.git to commit e47970a3a419e0580f02763b06c996f9c1ed5701\n",
            "  Preparing metadata (setup.py) ... \u001b[?25l\u001b[?25hdone\n",
            "Requirement already satisfied: numpy in /usr/local/lib/python3.9/dist-packages (from python-terrier==0.9.2) (1.22.4)\n",
            "Requirement already satisfied: pandas in /usr/local/lib/python3.9/dist-packages (from python-terrier==0.9.2) (1.5.3)\n",
            "Requirement already satisfied: wget in /usr/local/lib/python3.9/dist-packages (from python-terrier==0.9.2) (3.2)\n",
            "Requirement already satisfied: tqdm in /usr/local/lib/python3.9/dist-packages (from python-terrier==0.9.2) (4.65.0)\n",
            "Requirement already satisfied: pyjnius>=1.4.2 in /usr/local/lib/python3.9/dist-packages (from python-terrier==0.9.2) (1.4.2)\n",
            "Requirement already satisfied: matchpy in /usr/local/lib/python3.9/dist-packages (from python-terrier==0.9.2) (0.5.5)\n",
            "Requirement already satisfied: scikit-learn in /usr/local/lib/python3.9/dist-packages (from python-terrier==0.9.2) (1.2.2)\n",
            "Requirement already satisfied: deprecated in /usr/local/lib/python3.9/dist-packages (from python-terrier==0.9.2) (1.2.13)\n",
            "Requirement already satisfied: chest in /usr/local/lib/python3.9/dist-packages (from python-terrier==0.9.2) (0.2.3)\n",
            "Requirement already satisfied: scipy in /usr/local/lib/python3.9/dist-packages (from python-terrier==0.9.2) (1.10.1)\n",
            "Requirement already satisfied: requests in /usr/local/lib/python3.9/dist-packages (from python-terrier==0.9.2) (2.27.1)\n",
            "Requirement already satisfied: joblib in /usr/local/lib/python3.9/dist-packages (from python-terrier==0.9.2) (1.2.0)\n",
            "Requirement already satisfied: nptyping==1.4.4 in /usr/local/lib/python3.9/dist-packages (from python-terrier==0.9.2) (1.4.4)\n",
            "Requirement already satisfied: more_itertools in /usr/local/lib/python3.9/dist-packages (from python-terrier==0.9.2) (9.1.0)\n",
            "Requirement already satisfied: ir_datasets>=0.3.2 in /usr/local/lib/python3.9/dist-packages (from python-terrier==0.9.2) (0.5.4)\n",
            "Requirement already satisfied: jinja2 in /usr/local/lib/python3.9/dist-packages (from python-terrier==0.9.2) (3.1.2)\n",
            "Requirement already satisfied: statsmodels in /usr/local/lib/python3.9/dist-packages (from python-terrier==0.9.2) (0.13.5)\n",
            "Requirement already satisfied: ir_measures>=0.3.1 in /usr/local/lib/python3.9/dist-packages (from python-terrier==0.9.2) (0.3.1)\n",
            "Requirement already satisfied: dill in /usr/local/lib/python3.9/dist-packages (from python-terrier==0.9.2) (0.3.6)\n",
            "Requirement already satisfied: pytrec_eval_terrier>=0.5.3 in /usr/local/lib/python3.9/dist-packages (from python-terrier==0.9.2) (0.5.5)\n",
            "Requirement already satisfied: typish>=1.7.0 in /usr/local/lib/python3.9/dist-packages (from nptyping==1.4.4->python-terrier==0.9.2) (1.9.3)\n",
            "Requirement already satisfied: lxml>=4.5.2 in /usr/local/lib/python3.9/dist-packages (from ir_datasets>=0.3.2->python-terrier==0.9.2) (4.9.2)\n",
            "Requirement already satisfied: beautifulsoup4>=4.4.1 in /usr/local/lib/python3.9/dist-packages (from ir_datasets>=0.3.2->python-terrier==0.9.2) (4.11.2)\n",
            "Requirement already satisfied: pyautocorpus>=0.1.1 in /usr/local/lib/python3.9/dist-packages (from ir_datasets>=0.3.2->python-terrier==0.9.2) (0.1.9)\n",
            "Requirement already satisfied: trec-car-tools>=2.5.4 in /usr/local/lib/python3.9/dist-packages (from ir_datasets>=0.3.2->python-terrier==0.9.2) (2.6)\n",
            "Requirement already satisfied: lz4>=3.1.1 in /usr/local/lib/python3.9/dist-packages (from ir_datasets>=0.3.2->python-terrier==0.9.2) (4.3.2)\n",
            "Requirement already satisfied: warc3-wet-clueweb09>=0.2.5 in /usr/local/lib/python3.9/dist-packages (from ir_datasets>=0.3.2->python-terrier==0.9.2) (0.2.5)\n",
            "Requirement already satisfied: zlib-state>=0.1.3 in /usr/local/lib/python3.9/dist-packages (from ir_datasets>=0.3.2->python-terrier==0.9.2) (0.1.5)\n",
            "Requirement already satisfied: pyyaml>=5.3.1 in /usr/local/lib/python3.9/dist-packages (from ir_datasets>=0.3.2->python-terrier==0.9.2) (6.0)\n",
            "Requirement already satisfied: unlzw3>=0.2.1 in /usr/local/lib/python3.9/dist-packages (from ir_datasets>=0.3.2->python-terrier==0.9.2) (0.2.2)\n",
            "Requirement already satisfied: ijson>=3.1.3 in /usr/local/lib/python3.9/dist-packages (from ir_datasets>=0.3.2->python-terrier==0.9.2) (3.2.0.post0)\n",
            "Requirement already satisfied: warc3-wet>=0.2.3 in /usr/local/lib/python3.9/dist-packages (from ir_datasets>=0.3.2->python-terrier==0.9.2) (0.2.3)\n",
            "Requirement already satisfied: cwl-eval>=1.0.10 in /usr/local/lib/python3.9/dist-packages (from ir_measures>=0.3.1->python-terrier==0.9.2) (1.0.12)\n",
            "Requirement already satisfied: six>=1.7.0 in /usr/local/lib/python3.9/dist-packages (from pyjnius>=1.4.2->python-terrier==0.9.2) (1.16.0)\n",
            "Requirement already satisfied: charset-normalizer~=2.0.0 in /usr/local/lib/python3.9/dist-packages (from requests->python-terrier==0.9.2) (2.0.12)\n",
            "Requirement already satisfied: certifi>=2017.4.17 in /usr/local/lib/python3.9/dist-packages (from requests->python-terrier==0.9.2) (2022.12.7)\n",
            "Requirement already satisfied: idna<4,>=2.5 in /usr/local/lib/python3.9/dist-packages (from requests->python-terrier==0.9.2) (3.4)\n",
            "Requirement already satisfied: urllib3<1.27,>=1.21.1 in /usr/local/lib/python3.9/dist-packages (from requests->python-terrier==0.9.2) (1.26.15)\n",
            "Requirement already satisfied: heapdict in /usr/local/lib/python3.9/dist-packages (from chest->python-terrier==0.9.2) (1.0.1)\n",
            "Requirement already satisfied: wrapt<2,>=1.10 in /usr/local/lib/python3.9/dist-packages (from deprecated->python-terrier==0.9.2) (1.14.1)\n",
            "Requirement already satisfied: MarkupSafe>=2.0 in /usr/local/lib/python3.9/dist-packages (from jinja2->python-terrier==0.9.2) (2.1.2)\n",
            "Requirement already satisfied: multiset<3.0,>=2.0 in /usr/local/lib/python3.9/dist-packages (from matchpy->python-terrier==0.9.2) (2.1.1)\n",
            "Requirement already satisfied: python-dateutil>=2.8.1 in /usr/local/lib/python3.9/dist-packages (from pandas->python-terrier==0.9.2) (2.8.2)\n",
            "Requirement already satisfied: pytz>=2020.1 in /usr/local/lib/python3.9/dist-packages (from pandas->python-terrier==0.9.2) (2022.7.1)\n",
            "Requirement already satisfied: threadpoolctl>=2.0.0 in /usr/local/lib/python3.9/dist-packages (from scikit-learn->python-terrier==0.9.2) (3.1.0)\n",
            "Requirement already satisfied: patsy>=0.5.2 in /usr/local/lib/python3.9/dist-packages (from statsmodels->python-terrier==0.9.2) (0.5.3)\n",
            "Requirement already satisfied: packaging>=21.3 in /usr/local/lib/python3.9/dist-packages (from statsmodels->python-terrier==0.9.2) (23.1)\n",
            "Requirement already satisfied: soupsieve>1.2 in /usr/local/lib/python3.9/dist-packages (from beautifulsoup4>=4.4.1->ir_datasets>=0.3.2->python-terrier==0.9.2) (2.4.1)\n",
            "Requirement already satisfied: cbor>=1.0.0 in /usr/local/lib/python3.9/dist-packages (from trec-car-tools>=2.5.4->ir_datasets>=0.3.2->python-terrier==0.9.2) (1.0.0)\n"
          ]
        }
      ],
      "source": [
        "!pip install --upgrade git+https://github.com/terrier-org/pyterrier.git"
      ]
    },
    {
      "cell_type": "markdown",
      "source": [
        "# All usages of PyTerrier start by importing PyTerrier and starting it using the init() method"
      ],
      "metadata": {
        "id": "E3Q3qZxNuOo-"
      }
    },
    {
      "cell_type": "code",
      "source": [
        "import pyterrier as pt\n",
        "\n",
        "if not pt.started():\n",
        "    pt.init(boot_packages=[\"com.github.terrierteam:terrier-prf:-SNAPSHOT\"])\n"
      ],
      "metadata": {
        "id": "YDL3j4dXuF1e",
        "colab": {
          "base_uri": "https://localhost:8080/"
        },
        "outputId": "ab9b2d35-1151-4e28-87f1-ec27ce22ab7c"
      },
      "execution_count": null,
      "outputs": [
        {
          "output_type": "stream",
          "name": "stdout",
          "text": [
            "terrier-assemblies 5.7 jar-with-dependencies not found, downloading to /root/.pyterrier...\n",
            "Done\n",
            "terrier-python-helper 0.0.7 jar not found, downloading to /root/.pyterrier...\n",
            "Done\n",
            "terrier-prf -SNAPSHOT jar not found, downloading to /root/.pyterrier...\n",
            "Done\n"
          ]
        },
        {
          "output_type": "stream",
          "name": "stderr",
          "text": [
            "PyTerrier 0.9.2 has loaded Terrier 5.7 (built by craigm on 2022-11-10 18:30) and terrier-helper 0.0.7\n",
            "\n"
          ]
        }
      ]
    },
    {
      "cell_type": "markdown",
      "source": [
        "## Indexing a Pandas dataframe\n",
        "\n",
        "Sometimes we have the documents that we want to index in memory. Terrier makes it easy to index standard Python data structures, particularly [Pandas dataframes](https://pandas.pydata.org/pandas-docs/stable/reference/api/pandas.DataFrame.html).\n",
        "\n",
        "To do thise, we can use a `pt.DFIndexer()` object"
      ],
      "metadata": {
        "id": "fozJfFFVuSPe"
      }
    },
    {
      "cell_type": "code",
      "source": [
        "import pandas as pd\n",
        "!rm -rf ./pd_index\n",
        "pd_indexer = pt.DFIndexer(\"./pd_index\")\n",
        "\n",
        "# optionally modify properties\n",
        "# index_properies = {\"block.indexing\":\"true\", \"invertedfile.lexiconscanner\":\"pointers\"}\n",
        "# indexer.setProperties(**index_properies)"
      ],
      "metadata": {
        "id": "lb-1MaXXuRvG"
      },
      "execution_count": null,
      "outputs": []
    },
    {
      "cell_type": "code",
      "source": [
        "df = pd.DataFrame({ \n",
        "'docno':\n",
        "['1', '2', '3'],\n",
        "'url': \n",
        "['url1', 'url2', 'url3'],\n",
        "'text': \n",
        "['He ran out of money, so he had to stop playing',\n",
        "'The waves were crashing on the shore; it was a',\n",
        "'The body may perhaps compensates for the loss']\n",
        "})\n",
        "df"
      ],
      "metadata": {
        "id": "kRNEvBsvwWmG",
        "colab": {
          "base_uri": "https://localhost:8080/",
          "height": 143
        },
        "outputId": "5ab5a096-d9ac-4774-f980-bac9edb15a43"
      },
      "execution_count": null,
      "outputs": [
        {
          "output_type": "execute_result",
          "data": {
            "text/plain": [
              "  docno   url                                            text\n",
              "0     1  url1  He ran out of money, so he had to stop playing\n",
              "1     2  url2  The waves were crashing on the shore; it was a\n",
              "2     3  url3   The body may perhaps compensates for the loss"
            ],
            "text/html": [
              "\n",
              "  <div id=\"df-03722bfe-fe2e-4224-a3d0-046f9dcefcb4\">\n",
              "    <div class=\"colab-df-container\">\n",
              "      <div>\n",
              "<style scoped>\n",
              "    .dataframe tbody tr th:only-of-type {\n",
              "        vertical-align: middle;\n",
              "    }\n",
              "\n",
              "    .dataframe tbody tr th {\n",
              "        vertical-align: top;\n",
              "    }\n",
              "\n",
              "    .dataframe thead th {\n",
              "        text-align: right;\n",
              "    }\n",
              "</style>\n",
              "<table border=\"1\" class=\"dataframe\">\n",
              "  <thead>\n",
              "    <tr style=\"text-align: right;\">\n",
              "      <th></th>\n",
              "      <th>docno</th>\n",
              "      <th>url</th>\n",
              "      <th>text</th>\n",
              "    </tr>\n",
              "  </thead>\n",
              "  <tbody>\n",
              "    <tr>\n",
              "      <th>0</th>\n",
              "      <td>1</td>\n",
              "      <td>url1</td>\n",
              "      <td>He ran out of money, so he had to stop playing</td>\n",
              "    </tr>\n",
              "    <tr>\n",
              "      <th>1</th>\n",
              "      <td>2</td>\n",
              "      <td>url2</td>\n",
              "      <td>The waves were crashing on the shore; it was a</td>\n",
              "    </tr>\n",
              "    <tr>\n",
              "      <th>2</th>\n",
              "      <td>3</td>\n",
              "      <td>url3</td>\n",
              "      <td>The body may perhaps compensates for the loss</td>\n",
              "    </tr>\n",
              "  </tbody>\n",
              "</table>\n",
              "</div>\n",
              "      <button class=\"colab-df-convert\" onclick=\"convertToInteractive('df-03722bfe-fe2e-4224-a3d0-046f9dcefcb4')\"\n",
              "              title=\"Convert this dataframe to an interactive table.\"\n",
              "              style=\"display:none;\">\n",
              "        \n",
              "  <svg xmlns=\"http://www.w3.org/2000/svg\" height=\"24px\"viewBox=\"0 0 24 24\"\n",
              "       width=\"24px\">\n",
              "    <path d=\"M0 0h24v24H0V0z\" fill=\"none\"/>\n",
              "    <path d=\"M18.56 5.44l.94 2.06.94-2.06 2.06-.94-2.06-.94-.94-2.06-.94 2.06-2.06.94zm-11 1L8.5 8.5l.94-2.06 2.06-.94-2.06-.94L8.5 2.5l-.94 2.06-2.06.94zm10 10l.94 2.06.94-2.06 2.06-.94-2.06-.94-.94-2.06-.94 2.06-2.06.94z\"/><path d=\"M17.41 7.96l-1.37-1.37c-.4-.4-.92-.59-1.43-.59-.52 0-1.04.2-1.43.59L10.3 9.45l-7.72 7.72c-.78.78-.78 2.05 0 2.83L4 21.41c.39.39.9.59 1.41.59.51 0 1.02-.2 1.41-.59l7.78-7.78 2.81-2.81c.8-.78.8-2.07 0-2.86zM5.41 20L4 18.59l7.72-7.72 1.47 1.35L5.41 20z\"/>\n",
              "  </svg>\n",
              "      </button>\n",
              "      \n",
              "  <style>\n",
              "    .colab-df-container {\n",
              "      display:flex;\n",
              "      flex-wrap:wrap;\n",
              "      gap: 12px;\n",
              "    }\n",
              "\n",
              "    .colab-df-convert {\n",
              "      background-color: #E8F0FE;\n",
              "      border: none;\n",
              "      border-radius: 50%;\n",
              "      cursor: pointer;\n",
              "      display: none;\n",
              "      fill: #1967D2;\n",
              "      height: 32px;\n",
              "      padding: 0 0 0 0;\n",
              "      width: 32px;\n",
              "    }\n",
              "\n",
              "    .colab-df-convert:hover {\n",
              "      background-color: #E2EBFA;\n",
              "      box-shadow: 0px 1px 2px rgba(60, 64, 67, 0.3), 0px 1px 3px 1px rgba(60, 64, 67, 0.15);\n",
              "      fill: #174EA6;\n",
              "    }\n",
              "\n",
              "    [theme=dark] .colab-df-convert {\n",
              "      background-color: #3B4455;\n",
              "      fill: #D2E3FC;\n",
              "    }\n",
              "\n",
              "    [theme=dark] .colab-df-convert:hover {\n",
              "      background-color: #434B5C;\n",
              "      box-shadow: 0px 1px 3px 1px rgba(0, 0, 0, 0.15);\n",
              "      filter: drop-shadow(0px 1px 2px rgba(0, 0, 0, 0.3));\n",
              "      fill: #FFFFFF;\n",
              "    }\n",
              "  </style>\n",
              "\n",
              "      <script>\n",
              "        const buttonEl =\n",
              "          document.querySelector('#df-03722bfe-fe2e-4224-a3d0-046f9dcefcb4 button.colab-df-convert');\n",
              "        buttonEl.style.display =\n",
              "          google.colab.kernel.accessAllowed ? 'block' : 'none';\n",
              "\n",
              "        async function convertToInteractive(key) {\n",
              "          const element = document.querySelector('#df-03722bfe-fe2e-4224-a3d0-046f9dcefcb4');\n",
              "          const dataTable =\n",
              "            await google.colab.kernel.invokeFunction('convertToInteractive',\n",
              "                                                     [key], {});\n",
              "          if (!dataTable) return;\n",
              "\n",
              "          const docLinkHtml = 'Like what you see? Visit the ' +\n",
              "            '<a target=\"_blank\" href=https://colab.research.google.com/notebooks/data_table.ipynb>data table notebook</a>'\n",
              "            + ' to learn more about interactive tables.';\n",
              "          element.innerHTML = '';\n",
              "          dataTable['output_type'] = 'display_data';\n",
              "          await google.colab.output.renderOutput(dataTable, element);\n",
              "          const docLink = document.createElement('div');\n",
              "          docLink.innerHTML = docLinkHtml;\n",
              "          element.appendChild(docLink);\n",
              "        }\n",
              "      </script>\n",
              "    </div>\n",
              "  </div>\n",
              "  "
            ]
          },
          "metadata": {},
          "execution_count": 8
        }
      ]
    },
    {
      "cell_type": "markdown",
      "source": [
        "Then there are a number of options to index the dataframe:    \n",
        "The first argument should always a pandas.Series object of Strings, which specifies the body of each document.    \n",
        "Any arguments after that are for specifying metadata."
      ],
      "metadata": {
        "id": "wH5teZPUwbem"
      }
    },
    {
      "cell_type": "code",
      "source": [
        "indexref = pd_indexer.index(df[\"text\"], df)"
      ],
      "metadata": {
        "id": "UkvdcHy7wcPO",
        "colab": {
          "base_uri": "https://localhost:8080/"
        },
        "outputId": "05d28ed1-b3cf-4111-a44b-7f5e7776e30f"
      },
      "execution_count": null,
      "outputs": [
        {
          "output_type": "stream",
          "name": "stderr",
          "text": [
            "/usr/local/lib/python3.9/dist-packages/pyterrier/index.py:628: FutureWarning: iteritems is deprecated and will be removed in a future version. Use .items instead.\n",
            "  for column, value in meta_column[1].iteritems():\n"
          ]
        }
      ]
    },
    {
      "cell_type": "code",
      "source": [
        "index = pt.IndexFactory.of(indexref)\n",
        "print(index.getCollectionStatistics().toString())\n",
        "\n",
        "for kv in index.getLexicon():\n",
        "  print((kv.getKey())+\"\\t\"+ kv.getValue().toString())\n",
        "\n",
        "index.getLexicon()[\"monei\"].toString()"
      ],
      "metadata": {
        "id": "SZIg9J0fJf5i",
        "colab": {
          "base_uri": "https://localhost:8080/",
          "height": 348
        },
        "outputId": "419cb476-bb0b-40a0-ed1e-9e9fda6ea2eb"
      },
      "execution_count": null,
      "outputs": [
        {
          "output_type": "stream",
          "name": "stdout",
          "text": [
            "Number of documents: 3\n",
            "Number of terms: 10\n",
            "Number of postings: 10\n",
            "Number of fields: 0\n",
            "Number of tokens: 10\n",
            "Field names: []\n",
            "Positions:   false\n",
            "\n",
            "bodi\tterm7 Nt=1 TF=1 maxTF=1 @{0 0 0}\n",
            "compens\tterm9 Nt=1 TF=1 maxTF=1 @{0 0 4}\n",
            "crash\tterm4 Nt=1 TF=1 maxTF=1 @{0 1 0}\n",
            "loss\tterm6 Nt=1 TF=1 maxTF=1 @{0 1 4}\n",
            "mai\tterm8 Nt=1 TF=1 maxTF=1 @{0 2 0}\n",
            "monei\tterm1 Nt=1 TF=1 maxTF=1 @{0 2 4}\n",
            "plai\tterm2 Nt=1 TF=1 maxTF=1 @{0 2 6}\n",
            "ran\tterm0 Nt=1 TF=1 maxTF=1 @{0 3 0}\n",
            "shore\tterm3 Nt=1 TF=1 maxTF=1 @{0 3 2}\n",
            "wave\tterm5 Nt=1 TF=1 maxTF=1 @{0 3 6}\n"
          ]
        },
        {
          "output_type": "execute_result",
          "data": {
            "text/plain": [
              "'term1 Nt=1 TF=1 maxTF=1 @{0 2 4}'"
            ],
            "application/vnd.google.colaboratory.intrinsic+json": {
              "type": "string"
            }
          },
          "metadata": {},
          "execution_count": 7
        }
      ]
    },
    {
      "cell_type": "markdown",
      "source": [
        "## Retrieval\n",
        "\n",
        "Lets see how we can use one of these for retrieval. Retrieval takes place using the `BatchRetrieve` object, by invoking `transform()` method for one or more queries. For a quick test, you can give just pass your query to `transform()`. \n",
        "\n",
        "BatchRetrieve will return the results as a Pandas dataframe.\n"
      ],
      "metadata": {
        "id": "1EusCyJ_wklw"
      }
    },
    {
      "cell_type": "code",
      "source": [
        "pt.BatchRetrieve(indexref).search(\"playing\")"
      ],
      "metadata": {
        "colab": {
          "base_uri": "https://localhost:8080/",
          "height": 81
        },
        "id": "t6f7IOqZwlXf",
        "outputId": "d27f7356-f42d-4832-fd4f-8af532d7245f"
      },
      "execution_count": null,
      "outputs": [
        {
          "output_type": "execute_result",
          "data": {
            "text/plain": [
              "  qid  docid docno  rank     score    query\n",
              "0   1      0     1     0  0.615607  playing"
            ],
            "text/html": [
              "\n",
              "  <div id=\"df-0ecca6fb-64d3-4847-ac4d-535d670c3623\">\n",
              "    <div class=\"colab-df-container\">\n",
              "      <div>\n",
              "<style scoped>\n",
              "    .dataframe tbody tr th:only-of-type {\n",
              "        vertical-align: middle;\n",
              "    }\n",
              "\n",
              "    .dataframe tbody tr th {\n",
              "        vertical-align: top;\n",
              "    }\n",
              "\n",
              "    .dataframe thead th {\n",
              "        text-align: right;\n",
              "    }\n",
              "</style>\n",
              "<table border=\"1\" class=\"dataframe\">\n",
              "  <thead>\n",
              "    <tr style=\"text-align: right;\">\n",
              "      <th></th>\n",
              "      <th>qid</th>\n",
              "      <th>docid</th>\n",
              "      <th>docno</th>\n",
              "      <th>rank</th>\n",
              "      <th>score</th>\n",
              "      <th>query</th>\n",
              "    </tr>\n",
              "  </thead>\n",
              "  <tbody>\n",
              "    <tr>\n",
              "      <th>0</th>\n",
              "      <td>1</td>\n",
              "      <td>0</td>\n",
              "      <td>1</td>\n",
              "      <td>0</td>\n",
              "      <td>0.615607</td>\n",
              "      <td>playing</td>\n",
              "    </tr>\n",
              "  </tbody>\n",
              "</table>\n",
              "</div>\n",
              "      <button class=\"colab-df-convert\" onclick=\"convertToInteractive('df-0ecca6fb-64d3-4847-ac4d-535d670c3623')\"\n",
              "              title=\"Convert this dataframe to an interactive table.\"\n",
              "              style=\"display:none;\">\n",
              "        \n",
              "  <svg xmlns=\"http://www.w3.org/2000/svg\" height=\"24px\"viewBox=\"0 0 24 24\"\n",
              "       width=\"24px\">\n",
              "    <path d=\"M0 0h24v24H0V0z\" fill=\"none\"/>\n",
              "    <path d=\"M18.56 5.44l.94 2.06.94-2.06 2.06-.94-2.06-.94-.94-2.06-.94 2.06-2.06.94zm-11 1L8.5 8.5l.94-2.06 2.06-.94-2.06-.94L8.5 2.5l-.94 2.06-2.06.94zm10 10l.94 2.06.94-2.06 2.06-.94-2.06-.94-.94-2.06-.94 2.06-2.06.94z\"/><path d=\"M17.41 7.96l-1.37-1.37c-.4-.4-.92-.59-1.43-.59-.52 0-1.04.2-1.43.59L10.3 9.45l-7.72 7.72c-.78.78-.78 2.05 0 2.83L4 21.41c.39.39.9.59 1.41.59.51 0 1.02-.2 1.41-.59l7.78-7.78 2.81-2.81c.8-.78.8-2.07 0-2.86zM5.41 20L4 18.59l7.72-7.72 1.47 1.35L5.41 20z\"/>\n",
              "  </svg>\n",
              "      </button>\n",
              "      \n",
              "  <style>\n",
              "    .colab-df-container {\n",
              "      display:flex;\n",
              "      flex-wrap:wrap;\n",
              "      gap: 12px;\n",
              "    }\n",
              "\n",
              "    .colab-df-convert {\n",
              "      background-color: #E8F0FE;\n",
              "      border: none;\n",
              "      border-radius: 50%;\n",
              "      cursor: pointer;\n",
              "      display: none;\n",
              "      fill: #1967D2;\n",
              "      height: 32px;\n",
              "      padding: 0 0 0 0;\n",
              "      width: 32px;\n",
              "    }\n",
              "\n",
              "    .colab-df-convert:hover {\n",
              "      background-color: #E2EBFA;\n",
              "      box-shadow: 0px 1px 2px rgba(60, 64, 67, 0.3), 0px 1px 3px 1px rgba(60, 64, 67, 0.15);\n",
              "      fill: #174EA6;\n",
              "    }\n",
              "\n",
              "    [theme=dark] .colab-df-convert {\n",
              "      background-color: #3B4455;\n",
              "      fill: #D2E3FC;\n",
              "    }\n",
              "\n",
              "    [theme=dark] .colab-df-convert:hover {\n",
              "      background-color: #434B5C;\n",
              "      box-shadow: 0px 1px 3px 1px rgba(0, 0, 0, 0.15);\n",
              "      filter: drop-shadow(0px 1px 2px rgba(0, 0, 0, 0.3));\n",
              "      fill: #FFFFFF;\n",
              "    }\n",
              "  </style>\n",
              "\n",
              "      <script>\n",
              "        const buttonEl =\n",
              "          document.querySelector('#df-0ecca6fb-64d3-4847-ac4d-535d670c3623 button.colab-df-convert');\n",
              "        buttonEl.style.display =\n",
              "          google.colab.kernel.accessAllowed ? 'block' : 'none';\n",
              "\n",
              "        async function convertToInteractive(key) {\n",
              "          const element = document.querySelector('#df-0ecca6fb-64d3-4847-ac4d-535d670c3623');\n",
              "          const dataTable =\n",
              "            await google.colab.kernel.invokeFunction('convertToInteractive',\n",
              "                                                     [key], {});\n",
              "          if (!dataTable) return;\n",
              "\n",
              "          const docLinkHtml = 'Like what you see? Visit the ' +\n",
              "            '<a target=\"_blank\" href=https://colab.research.google.com/notebooks/data_table.ipynb>data table notebook</a>'\n",
              "            + ' to learn more about interactive tables.';\n",
              "          element.innerHTML = '';\n",
              "          dataTable['output_type'] = 'display_data';\n",
              "          await google.colab.output.renderOutput(dataTable, element);\n",
              "          const docLink = document.createElement('div');\n",
              "          docLink.innerHTML = docLinkHtml;\n",
              "          element.appendChild(docLink);\n",
              "        }\n",
              "      </script>\n",
              "    </div>\n",
              "  </div>\n",
              "  "
            ]
          },
          "metadata": {},
          "execution_count": 8
        }
      ]
    },
    {
      "cell_type": "markdown",
      "source": [
        "However, most IR experiments, will use a set of queries. You can pass such a set using a data frame for input.\n",
        "Having multiple parts"
      ],
      "metadata": {
        "id": "0ZvYebCdyQwX"
      }
    },
    {
      "cell_type": "code",
      "source": [
        "import pandas as pd\n",
        "topics = pd.DataFrame([[\"3\", \"compensates\"], [\"2\", \"stop playing\"]],columns=['qid','query'])\n",
        "pt.BatchRetrieve(indexref).transform(topics)"
      ],
      "metadata": {
        "colab": {
          "base_uri": "https://localhost:8080/",
          "height": 200
        },
        "id": "NNdIHLcxyRWW",
        "outputId": "758ecaf8-a970-4b7f-f579-631343f0b905"
      },
      "execution_count": null,
      "outputs": [
        {
          "output_type": "error",
          "ename": "NameError",
          "evalue": "ignored",
          "traceback": [
            "\u001b[0;31m---------------------------------------------------------------------------\u001b[0m",
            "\u001b[0;31mNameError\u001b[0m                                 Traceback (most recent call last)",
            "\u001b[0;32m<ipython-input-9-7cfa9258d607>\u001b[0m in \u001b[0;36m<cell line: 3>\u001b[0;34m()\u001b[0m\n\u001b[1;32m      1\u001b[0m \u001b[0;32mimport\u001b[0m \u001b[0mpandas\u001b[0m \u001b[0;32mas\u001b[0m \u001b[0mpd\u001b[0m\u001b[0;34m\u001b[0m\u001b[0;34m\u001b[0m\u001b[0m\n\u001b[1;32m      2\u001b[0m \u001b[0mtopics\u001b[0m \u001b[0;34m=\u001b[0m \u001b[0mpd\u001b[0m\u001b[0;34m.\u001b[0m\u001b[0mDataFrame\u001b[0m\u001b[0;34m(\u001b[0m\u001b[0;34m[\u001b[0m\u001b[0;34m[\u001b[0m\u001b[0;34m\"3\"\u001b[0m\u001b[0;34m,\u001b[0m \u001b[0;34m\"compensates\"\u001b[0m\u001b[0;34m]\u001b[0m\u001b[0;34m,\u001b[0m \u001b[0;34m[\u001b[0m\u001b[0;34m\"2\"\u001b[0m\u001b[0;34m,\u001b[0m \u001b[0;34m\"stop playing\"\u001b[0m\u001b[0;34m]\u001b[0m\u001b[0;34m]\u001b[0m\u001b[0;34m,\u001b[0m\u001b[0mcolumns\u001b[0m\u001b[0;34m=\u001b[0m\u001b[0;34m[\u001b[0m\u001b[0;34m'qid'\u001b[0m\u001b[0;34m,\u001b[0m\u001b[0;34m'query'\u001b[0m\u001b[0;34m]\u001b[0m\u001b[0;34m)\u001b[0m\u001b[0;34m\u001b[0m\u001b[0;34m\u001b[0m\u001b[0m\n\u001b[0;32m----> 3\u001b[0;31m \u001b[0mpt\u001b[0m\u001b[0;34m.\u001b[0m\u001b[0mBatchRetrieve\u001b[0m\u001b[0;34m(\u001b[0m\u001b[0mindexref\u001b[0m\u001b[0;34m)\u001b[0m\u001b[0;34m.\u001b[0m\u001b[0mtransform\u001b[0m\u001b[0;34m(\u001b[0m\u001b[0mtopics\u001b[0m\u001b[0;34m)\u001b[0m\u001b[0;34m\u001b[0m\u001b[0;34m\u001b[0m\u001b[0m\n\u001b[0m",
            "\u001b[0;31mNameError\u001b[0m: name 'indexref' is not defined"
          ]
        }
      ]
    },
    {
      "cell_type": "markdown",
      "source": [
        "Specifying models for search"
      ],
      "metadata": {
        "id": "Kc92RJS6zg2P"
      }
    },
    {
      "cell_type": "code",
      "source": [
        "import pandas as pd\n",
        "topics = pd.DataFrame([[\"3\", \"compensates\"], [\"2\", \"playing\"]],columns=['qid','query'])\n",
        "result1 = pt.BatchRetrieve(indexref, wmodel=\"Hiemstra_LM\")\n",
        "pl2 = pt.BatchRetrieve(indexref, wmodel=\"PL2\")\n",
        "pipeline = (result1 % 100) >> pl2\n",
        "pipeline.transform(topics)"
      ],
      "metadata": {
        "colab": {
          "base_uri": "https://localhost:8080/",
          "height": 112
        },
        "id": "Q1aGX1WNzjo-",
        "outputId": "1811bab4-2c56-4acd-c755-1119eb1b062c"
      },
      "execution_count": null,
      "outputs": [
        {
          "output_type": "execute_result",
          "data": {
            "text/plain": [
              "  qid  docid docno  rank     score        query\n",
              "0   3      2     3     0  0.888287  compensates\n",
              "1   2      0     1     0  1.025506      playing"
            ],
            "text/html": [
              "\n",
              "  <div id=\"df-ecab97f7-d747-43a1-a823-74e529c2cad8\">\n",
              "    <div class=\"colab-df-container\">\n",
              "      <div>\n",
              "<style scoped>\n",
              "    .dataframe tbody tr th:only-of-type {\n",
              "        vertical-align: middle;\n",
              "    }\n",
              "\n",
              "    .dataframe tbody tr th {\n",
              "        vertical-align: top;\n",
              "    }\n",
              "\n",
              "    .dataframe thead th {\n",
              "        text-align: right;\n",
              "    }\n",
              "</style>\n",
              "<table border=\"1\" class=\"dataframe\">\n",
              "  <thead>\n",
              "    <tr style=\"text-align: right;\">\n",
              "      <th></th>\n",
              "      <th>qid</th>\n",
              "      <th>docid</th>\n",
              "      <th>docno</th>\n",
              "      <th>rank</th>\n",
              "      <th>score</th>\n",
              "      <th>query</th>\n",
              "    </tr>\n",
              "  </thead>\n",
              "  <tbody>\n",
              "    <tr>\n",
              "      <th>0</th>\n",
              "      <td>3</td>\n",
              "      <td>2</td>\n",
              "      <td>3</td>\n",
              "      <td>0</td>\n",
              "      <td>0.888287</td>\n",
              "      <td>compensates</td>\n",
              "    </tr>\n",
              "    <tr>\n",
              "      <th>1</th>\n",
              "      <td>2</td>\n",
              "      <td>0</td>\n",
              "      <td>1</td>\n",
              "      <td>0</td>\n",
              "      <td>1.025506</td>\n",
              "      <td>playing</td>\n",
              "    </tr>\n",
              "  </tbody>\n",
              "</table>\n",
              "</div>\n",
              "      <button class=\"colab-df-convert\" onclick=\"convertToInteractive('df-ecab97f7-d747-43a1-a823-74e529c2cad8')\"\n",
              "              title=\"Convert this dataframe to an interactive table.\"\n",
              "              style=\"display:none;\">\n",
              "        \n",
              "  <svg xmlns=\"http://www.w3.org/2000/svg\" height=\"24px\"viewBox=\"0 0 24 24\"\n",
              "       width=\"24px\">\n",
              "    <path d=\"M0 0h24v24H0V0z\" fill=\"none\"/>\n",
              "    <path d=\"M18.56 5.44l.94 2.06.94-2.06 2.06-.94-2.06-.94-.94-2.06-.94 2.06-2.06.94zm-11 1L8.5 8.5l.94-2.06 2.06-.94-2.06-.94L8.5 2.5l-.94 2.06-2.06.94zm10 10l.94 2.06.94-2.06 2.06-.94-2.06-.94-.94-2.06-.94 2.06-2.06.94z\"/><path d=\"M17.41 7.96l-1.37-1.37c-.4-.4-.92-.59-1.43-.59-.52 0-1.04.2-1.43.59L10.3 9.45l-7.72 7.72c-.78.78-.78 2.05 0 2.83L4 21.41c.39.39.9.59 1.41.59.51 0 1.02-.2 1.41-.59l7.78-7.78 2.81-2.81c.8-.78.8-2.07 0-2.86zM5.41 20L4 18.59l7.72-7.72 1.47 1.35L5.41 20z\"/>\n",
              "  </svg>\n",
              "      </button>\n",
              "      \n",
              "  <style>\n",
              "    .colab-df-container {\n",
              "      display:flex;\n",
              "      flex-wrap:wrap;\n",
              "      gap: 12px;\n",
              "    }\n",
              "\n",
              "    .colab-df-convert {\n",
              "      background-color: #E8F0FE;\n",
              "      border: none;\n",
              "      border-radius: 50%;\n",
              "      cursor: pointer;\n",
              "      display: none;\n",
              "      fill: #1967D2;\n",
              "      height: 32px;\n",
              "      padding: 0 0 0 0;\n",
              "      width: 32px;\n",
              "    }\n",
              "\n",
              "    .colab-df-convert:hover {\n",
              "      background-color: #E2EBFA;\n",
              "      box-shadow: 0px 1px 2px rgba(60, 64, 67, 0.3), 0px 1px 3px 1px rgba(60, 64, 67, 0.15);\n",
              "      fill: #174EA6;\n",
              "    }\n",
              "\n",
              "    [theme=dark] .colab-df-convert {\n",
              "      background-color: #3B4455;\n",
              "      fill: #D2E3FC;\n",
              "    }\n",
              "\n",
              "    [theme=dark] .colab-df-convert:hover {\n",
              "      background-color: #434B5C;\n",
              "      box-shadow: 0px 1px 3px 1px rgba(0, 0, 0, 0.15);\n",
              "      filter: drop-shadow(0px 1px 2px rgba(0, 0, 0, 0.3));\n",
              "      fill: #FFFFFF;\n",
              "    }\n",
              "  </style>\n",
              "\n",
              "      <script>\n",
              "        const buttonEl =\n",
              "          document.querySelector('#df-ecab97f7-d747-43a1-a823-74e529c2cad8 button.colab-df-convert');\n",
              "        buttonEl.style.display =\n",
              "          google.colab.kernel.accessAllowed ? 'block' : 'none';\n",
              "\n",
              "        async function convertToInteractive(key) {\n",
              "          const element = document.querySelector('#df-ecab97f7-d747-43a1-a823-74e529c2cad8');\n",
              "          const dataTable =\n",
              "            await google.colab.kernel.invokeFunction('convertToInteractive',\n",
              "                                                     [key], {});\n",
              "          if (!dataTable) return;\n",
              "\n",
              "          const docLinkHtml = 'Like what you see? Visit the ' +\n",
              "            '<a target=\"_blank\" href=https://colab.research.google.com/notebooks/data_table.ipynb>data table notebook</a>'\n",
              "            + ' to learn more about interactive tables.';\n",
              "          element.innerHTML = '';\n",
              "          dataTable['output_type'] = 'display_data';\n",
              "          await google.colab.output.renderOutput(dataTable, element);\n",
              "          const docLink = document.createElement('div');\n",
              "          docLink.innerHTML = docLinkHtml;\n",
              "          element.appendChild(docLink);\n",
              "        }\n",
              "      </script>\n",
              "    </div>\n",
              "  </div>\n",
              "  "
            ]
          },
          "metadata": {},
          "execution_count": 10
        }
      ]
    },
    {
      "cell_type": "code",
      "source": [
        "import pandas as pd\n",
        "topics = pd.DataFrame([[\"3\", \"compensates\"], [\"2\", \"playing\"]],columns=['qid','query'])\n",
        "pt.BatchRetrieve(indexref, wmodel=\"TF_IDF\").transform(topics)"
      ],
      "metadata": {
        "colab": {
          "base_uri": "https://localhost:8080/",
          "height": 112
        },
        "id": "LHmhtuMuzpCf",
        "outputId": "d971880e-0432-49f3-86db-6ce64d665f8f"
      },
      "execution_count": null,
      "outputs": [
        {
          "output_type": "execute_result",
          "data": {
            "text/plain": [
              "  qid  docid docno  rank     score        query\n",
              "0   3      2     3     0  1.008403  compensates\n",
              "1   2      0     1     0  1.137441      playing"
            ],
            "text/html": [
              "\n",
              "  <div id=\"df-49bfe69d-0686-4276-bba0-f53ae89b4ba9\">\n",
              "    <div class=\"colab-df-container\">\n",
              "      <div>\n",
              "<style scoped>\n",
              "    .dataframe tbody tr th:only-of-type {\n",
              "        vertical-align: middle;\n",
              "    }\n",
              "\n",
              "    .dataframe tbody tr th {\n",
              "        vertical-align: top;\n",
              "    }\n",
              "\n",
              "    .dataframe thead th {\n",
              "        text-align: right;\n",
              "    }\n",
              "</style>\n",
              "<table border=\"1\" class=\"dataframe\">\n",
              "  <thead>\n",
              "    <tr style=\"text-align: right;\">\n",
              "      <th></th>\n",
              "      <th>qid</th>\n",
              "      <th>docid</th>\n",
              "      <th>docno</th>\n",
              "      <th>rank</th>\n",
              "      <th>score</th>\n",
              "      <th>query</th>\n",
              "    </tr>\n",
              "  </thead>\n",
              "  <tbody>\n",
              "    <tr>\n",
              "      <th>0</th>\n",
              "      <td>3</td>\n",
              "      <td>2</td>\n",
              "      <td>3</td>\n",
              "      <td>0</td>\n",
              "      <td>1.008403</td>\n",
              "      <td>compensates</td>\n",
              "    </tr>\n",
              "    <tr>\n",
              "      <th>1</th>\n",
              "      <td>2</td>\n",
              "      <td>0</td>\n",
              "      <td>1</td>\n",
              "      <td>0</td>\n",
              "      <td>1.137441</td>\n",
              "      <td>playing</td>\n",
              "    </tr>\n",
              "  </tbody>\n",
              "</table>\n",
              "</div>\n",
              "      <button class=\"colab-df-convert\" onclick=\"convertToInteractive('df-49bfe69d-0686-4276-bba0-f53ae89b4ba9')\"\n",
              "              title=\"Convert this dataframe to an interactive table.\"\n",
              "              style=\"display:none;\">\n",
              "        \n",
              "  <svg xmlns=\"http://www.w3.org/2000/svg\" height=\"24px\"viewBox=\"0 0 24 24\"\n",
              "       width=\"24px\">\n",
              "    <path d=\"M0 0h24v24H0V0z\" fill=\"none\"/>\n",
              "    <path d=\"M18.56 5.44l.94 2.06.94-2.06 2.06-.94-2.06-.94-.94-2.06-.94 2.06-2.06.94zm-11 1L8.5 8.5l.94-2.06 2.06-.94-2.06-.94L8.5 2.5l-.94 2.06-2.06.94zm10 10l.94 2.06.94-2.06 2.06-.94-2.06-.94-.94-2.06-.94 2.06-2.06.94z\"/><path d=\"M17.41 7.96l-1.37-1.37c-.4-.4-.92-.59-1.43-.59-.52 0-1.04.2-1.43.59L10.3 9.45l-7.72 7.72c-.78.78-.78 2.05 0 2.83L4 21.41c.39.39.9.59 1.41.59.51 0 1.02-.2 1.41-.59l7.78-7.78 2.81-2.81c.8-.78.8-2.07 0-2.86zM5.41 20L4 18.59l7.72-7.72 1.47 1.35L5.41 20z\"/>\n",
              "  </svg>\n",
              "      </button>\n",
              "      \n",
              "  <style>\n",
              "    .colab-df-container {\n",
              "      display:flex;\n",
              "      flex-wrap:wrap;\n",
              "      gap: 12px;\n",
              "    }\n",
              "\n",
              "    .colab-df-convert {\n",
              "      background-color: #E8F0FE;\n",
              "      border: none;\n",
              "      border-radius: 50%;\n",
              "      cursor: pointer;\n",
              "      display: none;\n",
              "      fill: #1967D2;\n",
              "      height: 32px;\n",
              "      padding: 0 0 0 0;\n",
              "      width: 32px;\n",
              "    }\n",
              "\n",
              "    .colab-df-convert:hover {\n",
              "      background-color: #E2EBFA;\n",
              "      box-shadow: 0px 1px 2px rgba(60, 64, 67, 0.3), 0px 1px 3px 1px rgba(60, 64, 67, 0.15);\n",
              "      fill: #174EA6;\n",
              "    }\n",
              "\n",
              "    [theme=dark] .colab-df-convert {\n",
              "      background-color: #3B4455;\n",
              "      fill: #D2E3FC;\n",
              "    }\n",
              "\n",
              "    [theme=dark] .colab-df-convert:hover {\n",
              "      background-color: #434B5C;\n",
              "      box-shadow: 0px 1px 3px 1px rgba(0, 0, 0, 0.15);\n",
              "      filter: drop-shadow(0px 1px 2px rgba(0, 0, 0, 0.3));\n",
              "      fill: #FFFFFF;\n",
              "    }\n",
              "  </style>\n",
              "\n",
              "      <script>\n",
              "        const buttonEl =\n",
              "          document.querySelector('#df-49bfe69d-0686-4276-bba0-f53ae89b4ba9 button.colab-df-convert');\n",
              "        buttonEl.style.display =\n",
              "          google.colab.kernel.accessAllowed ? 'block' : 'none';\n",
              "\n",
              "        async function convertToInteractive(key) {\n",
              "          const element = document.querySelector('#df-49bfe69d-0686-4276-bba0-f53ae89b4ba9');\n",
              "          const dataTable =\n",
              "            await google.colab.kernel.invokeFunction('convertToInteractive',\n",
              "                                                     [key], {});\n",
              "          if (!dataTable) return;\n",
              "\n",
              "          const docLinkHtml = 'Like what you see? Visit the ' +\n",
              "            '<a target=\"_blank\" href=https://colab.research.google.com/notebooks/data_table.ipynb>data table notebook</a>'\n",
              "            + ' to learn more about interactive tables.';\n",
              "          element.innerHTML = '';\n",
              "          dataTable['output_type'] = 'display_data';\n",
              "          await google.colab.output.renderOutput(dataTable, element);\n",
              "          const docLink = document.createElement('div');\n",
              "          docLink.innerHTML = docLinkHtml;\n",
              "          element.appendChild(docLink);\n",
              "        }\n",
              "      </script>\n",
              "    </div>\n",
              "  </div>\n",
              "  "
            ]
          },
          "metadata": {},
          "execution_count": 11
        }
      ]
    },
    {
      "cell_type": "markdown",
      "source": [
        "Stopword removal and Stemming"
      ],
      "metadata": {
        "id": "M1cwGAxzgFPQ"
      }
    },
    {
      "cell_type": "code",
      "source": [
        "import pandas as pd\n",
        "pd_indexer = pt.DFIndexer(\"./pd_index4\", overwrite=True)\n",
        "pd_indexer.setProperty( \"termpipelines\", \"Stopwords,PorterStemmer\")\n",
        "\n",
        "df = pd.DataFrame({ \n",
        "'docno':\n",
        "['1', '2', '3'],\n",
        "'url': \n",
        "['url1', 'url2', 'url3'],\n",
        "'text': \n",
        "['He ran out of money, so he had to stop playing',\n",
        "'The waves were crashing on the shore; it was a',\n",
        "'The body may perhaps compensates for the loss']\n",
        "})\n",
        "\n",
        "indexer = pd_indexer.index(df[\"text\"], df)\n",
        "# Printing Stats from index\n",
        "print(pt.IndexFactory.of( indexer ).getCollectionStatistics().toString())\n",
        "for kv in pt.IndexFactory.of( indexer ).getLexicon():\n",
        "  print(\"%s (%s) -> %s (%s)\" % (kv.getKey(), type(kv.getKey()), kv.getValue().toString(), type(kv.getValue()) ) )\n",
        "\n",
        "queries = pd.DataFrame([[\"3\", \"compensates\"], [\"2\", \"playing\"]],columns=['qid','query'])\n",
        "pt.set_property(\"termpipelines\", \"\")\n",
        "pt.BatchRetrieve(indexer, wmodel=\"TF_IDF\").transform(queries)\n",
        "\n",
        "\n",
        "bm25 = pt.BatchRetrieve(indexer, wmodel=\"BM25\")\n",
        "bm25.search(\"compensates\")"
      ],
      "metadata": {
        "id": "4UnhNVNtgIj_",
        "colab": {
          "base_uri": "https://localhost:8080/",
          "height": 463
        },
        "outputId": "3fd64ecb-bfd9-4467-d85a-a86fc68b0bb4"
      },
      "execution_count": null,
      "outputs": [
        {
          "output_type": "stream",
          "name": "stderr",
          "text": [
            "<ipython-input-12-3f6a260999af>:16: DeprecationWarning: Setting of termpipelines property directly is deprecated\n",
            "  indexer = pd_indexer.index(df[\"text\"], df)\n",
            "/usr/local/lib/python3.9/dist-packages/pyterrier/index.py:628: FutureWarning: iteritems is deprecated and will be removed in a future version. Use .items instead.\n",
            "  for column, value in meta_column[1].iteritems():\n"
          ]
        },
        {
          "output_type": "stream",
          "name": "stdout",
          "text": [
            "Number of documents: 3\n",
            "Number of terms: 10\n",
            "Number of postings: 10\n",
            "Number of fields: 0\n",
            "Number of tokens: 10\n",
            "Field names: []\n",
            "Positions:   false\n",
            "\n",
            "bodi (<class 'str'>) -> term7 Nt=1 TF=1 maxTF=1 @{0 0 0} (<class 'jnius.reflect.org.terrier.structures.LexiconEntry'>)\n",
            "compens (<class 'str'>) -> term9 Nt=1 TF=1 maxTF=1 @{0 0 4} (<class 'jnius.reflect.org.terrier.structures.LexiconEntry'>)\n",
            "crash (<class 'str'>) -> term4 Nt=1 TF=1 maxTF=1 @{0 1 0} (<class 'jnius.reflect.org.terrier.structures.LexiconEntry'>)\n",
            "loss (<class 'str'>) -> term6 Nt=1 TF=1 maxTF=1 @{0 1 4} (<class 'jnius.reflect.org.terrier.structures.LexiconEntry'>)\n",
            "mai (<class 'str'>) -> term8 Nt=1 TF=1 maxTF=1 @{0 2 0} (<class 'jnius.reflect.org.terrier.structures.LexiconEntry'>)\n",
            "monei (<class 'str'>) -> term1 Nt=1 TF=1 maxTF=1 @{0 2 4} (<class 'jnius.reflect.org.terrier.structures.LexiconEntry'>)\n",
            "plai (<class 'str'>) -> term2 Nt=1 TF=1 maxTF=1 @{0 2 6} (<class 'jnius.reflect.org.terrier.structures.LexiconEntry'>)\n",
            "ran (<class 'str'>) -> term0 Nt=1 TF=1 maxTF=1 @{0 3 0} (<class 'jnius.reflect.org.terrier.structures.LexiconEntry'>)\n",
            "shore (<class 'str'>) -> term3 Nt=1 TF=1 maxTF=1 @{0 3 2} (<class 'jnius.reflect.org.terrier.structures.LexiconEntry'>)\n",
            "wave (<class 'str'>) -> term5 Nt=1 TF=1 maxTF=1 @{0 3 6} (<class 'jnius.reflect.org.terrier.structures.LexiconEntry'>)\n"
          ]
        },
        {
          "output_type": "execute_result",
          "data": {
            "text/plain": [
              "  qid  docid docno  rank     score        query\n",
              "0   1      2     3     0  0.681229  compensates"
            ],
            "text/html": [
              "\n",
              "  <div id=\"df-918df55d-95e5-407c-984c-ed0f156c7d72\">\n",
              "    <div class=\"colab-df-container\">\n",
              "      <div>\n",
              "<style scoped>\n",
              "    .dataframe tbody tr th:only-of-type {\n",
              "        vertical-align: middle;\n",
              "    }\n",
              "\n",
              "    .dataframe tbody tr th {\n",
              "        vertical-align: top;\n",
              "    }\n",
              "\n",
              "    .dataframe thead th {\n",
              "        text-align: right;\n",
              "    }\n",
              "</style>\n",
              "<table border=\"1\" class=\"dataframe\">\n",
              "  <thead>\n",
              "    <tr style=\"text-align: right;\">\n",
              "      <th></th>\n",
              "      <th>qid</th>\n",
              "      <th>docid</th>\n",
              "      <th>docno</th>\n",
              "      <th>rank</th>\n",
              "      <th>score</th>\n",
              "      <th>query</th>\n",
              "    </tr>\n",
              "  </thead>\n",
              "  <tbody>\n",
              "    <tr>\n",
              "      <th>0</th>\n",
              "      <td>1</td>\n",
              "      <td>2</td>\n",
              "      <td>3</td>\n",
              "      <td>0</td>\n",
              "      <td>0.681229</td>\n",
              "      <td>compensates</td>\n",
              "    </tr>\n",
              "  </tbody>\n",
              "</table>\n",
              "</div>\n",
              "      <button class=\"colab-df-convert\" onclick=\"convertToInteractive('df-918df55d-95e5-407c-984c-ed0f156c7d72')\"\n",
              "              title=\"Convert this dataframe to an interactive table.\"\n",
              "              style=\"display:none;\">\n",
              "        \n",
              "  <svg xmlns=\"http://www.w3.org/2000/svg\" height=\"24px\"viewBox=\"0 0 24 24\"\n",
              "       width=\"24px\">\n",
              "    <path d=\"M0 0h24v24H0V0z\" fill=\"none\"/>\n",
              "    <path d=\"M18.56 5.44l.94 2.06.94-2.06 2.06-.94-2.06-.94-.94-2.06-.94 2.06-2.06.94zm-11 1L8.5 8.5l.94-2.06 2.06-.94-2.06-.94L8.5 2.5l-.94 2.06-2.06.94zm10 10l.94 2.06.94-2.06 2.06-.94-2.06-.94-.94-2.06-.94 2.06-2.06.94z\"/><path d=\"M17.41 7.96l-1.37-1.37c-.4-.4-.92-.59-1.43-.59-.52 0-1.04.2-1.43.59L10.3 9.45l-7.72 7.72c-.78.78-.78 2.05 0 2.83L4 21.41c.39.39.9.59 1.41.59.51 0 1.02-.2 1.41-.59l7.78-7.78 2.81-2.81c.8-.78.8-2.07 0-2.86zM5.41 20L4 18.59l7.72-7.72 1.47 1.35L5.41 20z\"/>\n",
              "  </svg>\n",
              "      </button>\n",
              "      \n",
              "  <style>\n",
              "    .colab-df-container {\n",
              "      display:flex;\n",
              "      flex-wrap:wrap;\n",
              "      gap: 12px;\n",
              "    }\n",
              "\n",
              "    .colab-df-convert {\n",
              "      background-color: #E8F0FE;\n",
              "      border: none;\n",
              "      border-radius: 50%;\n",
              "      cursor: pointer;\n",
              "      display: none;\n",
              "      fill: #1967D2;\n",
              "      height: 32px;\n",
              "      padding: 0 0 0 0;\n",
              "      width: 32px;\n",
              "    }\n",
              "\n",
              "    .colab-df-convert:hover {\n",
              "      background-color: #E2EBFA;\n",
              "      box-shadow: 0px 1px 2px rgba(60, 64, 67, 0.3), 0px 1px 3px 1px rgba(60, 64, 67, 0.15);\n",
              "      fill: #174EA6;\n",
              "    }\n",
              "\n",
              "    [theme=dark] .colab-df-convert {\n",
              "      background-color: #3B4455;\n",
              "      fill: #D2E3FC;\n",
              "    }\n",
              "\n",
              "    [theme=dark] .colab-df-convert:hover {\n",
              "      background-color: #434B5C;\n",
              "      box-shadow: 0px 1px 3px 1px rgba(0, 0, 0, 0.15);\n",
              "      filter: drop-shadow(0px 1px 2px rgba(0, 0, 0, 0.3));\n",
              "      fill: #FFFFFF;\n",
              "    }\n",
              "  </style>\n",
              "\n",
              "      <script>\n",
              "        const buttonEl =\n",
              "          document.querySelector('#df-918df55d-95e5-407c-984c-ed0f156c7d72 button.colab-df-convert');\n",
              "        buttonEl.style.display =\n",
              "          google.colab.kernel.accessAllowed ? 'block' : 'none';\n",
              "\n",
              "        async function convertToInteractive(key) {\n",
              "          const element = document.querySelector('#df-918df55d-95e5-407c-984c-ed0f156c7d72');\n",
              "          const dataTable =\n",
              "            await google.colab.kernel.invokeFunction('convertToInteractive',\n",
              "                                                     [key], {});\n",
              "          if (!dataTable) return;\n",
              "\n",
              "          const docLinkHtml = 'Like what you see? Visit the ' +\n",
              "            '<a target=\"_blank\" href=https://colab.research.google.com/notebooks/data_table.ipynb>data table notebook</a>'\n",
              "            + ' to learn more about interactive tables.';\n",
              "          element.innerHTML = '';\n",
              "          dataTable['output_type'] = 'display_data';\n",
              "          await google.colab.output.renderOutput(dataTable, element);\n",
              "          const docLink = document.createElement('div');\n",
              "          docLink.innerHTML = docLinkHtml;\n",
              "          element.appendChild(docLink);\n",
              "        }\n",
              "      </script>\n",
              "    </div>\n",
              "  </div>\n",
              "  "
            ]
          },
          "metadata": {},
          "execution_count": 12
        }
      ]
    },
    {
      "cell_type": "markdown",
      "source": [
        "Method to read the similar questions"
      ],
      "metadata": {
        "id": "JliG1wnUSHAd"
      }
    },
    {
      "cell_type": "code",
      "source": [
        "import csv\n",
        "\n",
        "def read_tsv_test_data(file_path):\n",
        "  # Takes in the file path for test file and generate a dictionary\n",
        "  # of question id as the key and the list of question ids similar to it\n",
        "  # as value. It also returns the list of all question ids that have\n",
        "  # at least one similar question\n",
        "  dic_similar_questions = {}\n",
        "  lst_all_test = []\n",
        "  with open(file_path, encoding=\"utf-8\") as fd:\n",
        "    rd = csv.reader(fd, delimiter=\"\\t\", quotechar='\"')\n",
        "    for row in rd:\n",
        "        question_id = int(row[0])\n",
        "        lst_similar = list(map(int, row[1:]))\n",
        "        dic_similar_questions[question_id] = lst_similar\n",
        "        lst_all_test.append(question_id)\n",
        "        lst_all_test.extend(lst_similar)\n",
        "  return dic_similar_questions, lst_all_test"
      ],
      "metadata": {
        "id": "rpj9muVSSDI1"
      },
      "execution_count": null,
      "outputs": []
    },
    {
      "cell_type": "markdown",
      "source": [
        "## IterDictIndexer\n",
        "Use this Indexer if you wish to index an iter of dicts (possibly with multiple fields). This version is optimized by\n",
        "using multiple threads and POSIX fifos to tranfer data, which ends up being much faster.\n",
        "\n",
        "#### Parameters\n",
        "\n",
        "*   index_path (str) – Directory to store index. Ignored for IndexingType. MEMORY.\n",
        "*   meta (Dict[str,int]) – What metadata for each document to record in the index, and what length to reserve. Defaults to {“docno” : 20}.\n",
        "*   meta_reverse (List[str]) – What metadata shoudl we be able to resolve back to a docid. Defaults to [“docno”],\n",
        "*   index(it, fields=('text',), meta=None, meta_lengths=None)\n",
        "---- \n",
        "Parameters\n",
        "*   it (iter[dict]) – an iter of document dict to be indexed\n",
        "*   fields (list[str]) – keys to be indexed as fields\n",
        "*   meta (list[str]) – keys to be considered as metdata\n",
        "*   meta_lengths (list[int]) – length of metadata, defaults to 512 characters\n"
      ],
      "metadata": {
        "id": "YDJ55NsHOxKo"
      }
    },
    {
      "cell_type": "code",
      "source": [
        "from post_parser_record import PostParserRecord\n",
        "import pandas as pd\n",
        "post_reader = PostParserRecord(\"Posts_law.xml\")\n",
        "\n",
        "# Indexing the collection\n",
        "questions = []\n",
        "for question_id in post_reader.map_questions:\n",
        "  question = post_reader.map_questions[question_id]\n",
        "  title = question.title#.replace(\"©\", \" \")\n",
        "  body = question.body#.replace(\"©\", \" \")\n",
        "  questions.append({'docno':str(question_id), 'title': title, 'body': body})\n",
        "\n",
        "# preparing the questions\n",
        "lst_queries = []\n",
        "dic_similar_questions, lst_all_test = read_tsv_test_data(\"duplicate_questions.tsv\")\n",
        "for question_id in dic_similar_questions:\n",
        "  query = post_reader.map_questions[question_id].title\n",
        "  query = query.replace(\"?\", \" \")\n",
        "  query = query.replace(\"\\\"\", \" \")\n",
        "  query = query.replace(\"\\'\", \" \")\n",
        "  query = query.replace(\"/\", \" \")\n",
        "  lst_queries.append([str(question_id), query])\n",
        "\n",
        "iter_indexer = pt.IterDictIndexer(\"./index\", meta={'docno': 20, 'title': 10000, 'body':20000}, overwrite=True)\n",
        "RETRIEVAL_FIELDS = ['title', 'body']\n",
        "index = iter_indexer.index(questions, fields=RETRIEVAL_FIELDS)\n",
        "\n",
        "\n",
        "#bm25 = pt.BatchRetrieve(index, num_results=200, wmodel=\"BM25\")\n",
        "#dph = pt.BatchRetrieve(index, wmodel=\"DPH\")\n",
        "#pipeline = (bm25 % 20) >> dph\n",
        "# questions + titles\n",
        "# {'precision@1': 0.028368794326241134, 'mrr@20': 0.13756442330441077}\n",
        "\n",
        "# Retrieval models\n",
        "bm25 = pt.BatchRetrieve(index, num_results=200, wmodel=\"BM25\")\n",
        "dph = pt.BatchRetrieve(index, wmodel=\"DPH\")\n",
        "\n",
        "# Query expansion techniques\n",
        "bo1 = pt.rewrite.Bo1QueryExpansion(index)\n",
        "\n",
        "\n",
        "pipeline = (bm25 % 20) >> bo1 >> dph\n",
        "#{'precision@1': 0.03900709219858156, 'mrr@20': 0.15685095668298357}\n",
        "\n",
        "\n",
        "queries = pd.DataFrame(lst_queries,columns=['qid','query'])\n",
        "result = pipeline.transform(queries)\n",
        "\n",
        "pt.io.write_results(result, \"similar_questions_results.txt\", format='trec')\n",
        "print(result)"
      ],
      "metadata": {
        "id": "yqqUocMmXKQp",
        "colab": {
          "base_uri": "https://localhost:8080/"
        },
        "outputId": "ede1e8fe-0eb0-4a03-8956-1b240c13c30a"
      },
      "execution_count": 8,
      "outputs": [
        {
          "output_type": "stream",
          "name": "stdout",
          "text": [
            "          qid  docid  docno  rank      score  \\\n",
            "0       11532   3484  11532     0  35.804581   \n",
            "1       11532  20723  73830     1  19.734624   \n",
            "2       11532   9488  31440     2  18.048025   \n",
            "3       11532  16967  57169     3  16.368443   \n",
            "4       11532  21332  76618     4  16.226852   \n",
            "...       ...    ...    ...   ...        ...   \n",
            "281995   9488   4552  15663   995   3.333565   \n",
            "281996   9488   9402  31181   996   3.333565   \n",
            "281997   9488  19948  70471   997   3.332240   \n",
            "281998   9488   8796  29320   998   3.332197   \n",
            "281999   9488  22788  80762   999   3.332197   \n",
            "\n",
            "                                                  query_0  \\\n",
            "0       Is a (UK) retail company obliged to compensate...   \n",
            "1       Is a (UK) retail company obliged to compensate...   \n",
            "2       Is a (UK) retail company obliged to compensate...   \n",
            "3       Is a (UK) retail company obliged to compensate...   \n",
            "4       Is a (UK) retail company obliged to compensate...   \n",
            "...                                                   ...   \n",
            "281995  Why is it in TV shows and Movies you never see...   \n",
            "281996  Why is it in TV shows and Movies you never see...   \n",
            "281997  Why is it in TV shows and Movies you never see...   \n",
            "281998  Why is it in TV shows and Movies you never see...   \n",
            "281999  Why is it in TV shows and Movies you never see...   \n",
            "\n",
            "                                                    query  \n",
            "0       applypipeline:off uk^1.000000000 retail^1.0953...  \n",
            "1       applypipeline:off uk^1.000000000 retail^1.0953...  \n",
            "2       applypipeline:off uk^1.000000000 retail^1.0953...  \n",
            "3       applypipeline:off uk^1.000000000 retail^1.0953...  \n",
            "4       applypipeline:off uk^1.000000000 retail^1.0953...  \n",
            "...                                                   ...  \n",
            "281995  applypipeline:off tv^1.444932527 show^1.163690...  \n",
            "281996  applypipeline:off tv^1.444932527 show^1.163690...  \n",
            "281997  applypipeline:off tv^1.444932527 show^1.163690...  \n",
            "281998  applypipeline:off tv^1.444932527 show^1.163690...  \n",
            "281999  applypipeline:off tv^1.444932527 show^1.163690...  \n",
            "\n",
            "[282000 rows x 7 columns]\n"
          ]
        }
      ]
    },
    {
      "cell_type": "markdown",
      "source": [
        "Using Ranx library python for evaluation"
      ],
      "metadata": {
        "id": "0mGeJreMVa-F"
      }
    },
    {
      "cell_type": "code",
      "source": [
        "! pip install ranx"
      ],
      "metadata": {
        "id": "p2ybPTCgWCKs",
        "colab": {
          "base_uri": "https://localhost:8080/"
        },
        "outputId": "44703b30-6e01-457f-a865-ce98a863a8c5"
      },
      "execution_count": 9,
      "outputs": [
        {
          "output_type": "stream",
          "name": "stdout",
          "text": [
            "Looking in indexes: https://pypi.org/simple, https://us-python.pkg.dev/colab-wheels/public/simple/\n",
            "Collecting ranx\n",
            "  Downloading ranx-0.3.7-py3-none-any.whl (95 kB)\n",
            "\u001b[2K     \u001b[90m━━━━━━━━━━━━━━━━━━━━━━━━━━━━━━━━━━━━━━━━\u001b[0m \u001b[32m95.7/95.7 kB\u001b[0m \u001b[31m11.4 MB/s\u001b[0m eta \u001b[36m0:00:00\u001b[0m\n",
            "\u001b[?25hCollecting orjson\n",
            "  Downloading orjson-3.8.10-cp39-cp39-manylinux_2_28_x86_64.whl (140 kB)\n",
            "\u001b[2K     \u001b[90m━━━━━━━━━━━━━━━━━━━━━━━━━━━━━━━━━━━━━━\u001b[0m \u001b[32m140.5/140.5 kB\u001b[0m \u001b[31m15.6 MB/s\u001b[0m eta \u001b[36m0:00:00\u001b[0m\n",
            "\u001b[?25hRequirement already satisfied: tqdm in /usr/local/lib/python3.9/dist-packages (from ranx) (4.65.0)\n",
            "Requirement already satisfied: lz4 in /usr/local/lib/python3.9/dist-packages (from ranx) (4.3.2)\n",
            "Collecting cbor2\n",
            "  Downloading cbor2-5.4.6-cp39-cp39-manylinux_2_17_x86_64.manylinux2014_x86_64.whl (223 kB)\n",
            "\u001b[2K     \u001b[90m━━━━━━━━━━━━━━━━━━━━━━━━━━━━━━━━━━━━━━\u001b[0m \u001b[32m223.1/223.1 kB\u001b[0m \u001b[31m28.7 MB/s\u001b[0m eta \u001b[36m0:00:00\u001b[0m\n",
            "\u001b[?25hRequirement already satisfied: scipy>=1.8.0 in /usr/local/lib/python3.9/dist-packages (from ranx) (1.10.1)\n",
            "Requirement already satisfied: tabulate in /usr/local/lib/python3.9/dist-packages (from ranx) (0.8.10)\n",
            "Requirement already satisfied: ir-datasets in /usr/local/lib/python3.9/dist-packages (from ranx) (0.5.4)\n",
            "Requirement already satisfied: numpy in /usr/local/lib/python3.9/dist-packages (from ranx) (1.22.4)\n",
            "Requirement already satisfied: rich in /usr/local/lib/python3.9/dist-packages (from ranx) (13.3.4)\n",
            "Requirement already satisfied: pandas in /usr/local/lib/python3.9/dist-packages (from ranx) (1.5.3)\n",
            "Requirement already satisfied: numba>=0.54.1 in /usr/local/lib/python3.9/dist-packages (from ranx) (0.56.4)\n",
            "Requirement already satisfied: setuptools in /usr/local/lib/python3.9/dist-packages (from numba>=0.54.1->ranx) (67.6.1)\n",
            "Requirement already satisfied: llvmlite<0.40,>=0.39.0dev0 in /usr/local/lib/python3.9/dist-packages (from numba>=0.54.1->ranx) (0.39.1)\n",
            "Requirement already satisfied: zlib-state>=0.1.3 in /usr/local/lib/python3.9/dist-packages (from ir-datasets->ranx) (0.1.5)\n",
            "Requirement already satisfied: warc3-wet>=0.2.3 in /usr/local/lib/python3.9/dist-packages (from ir-datasets->ranx) (0.2.3)\n",
            "Requirement already satisfied: trec-car-tools>=2.5.4 in /usr/local/lib/python3.9/dist-packages (from ir-datasets->ranx) (2.6)\n",
            "Requirement already satisfied: pyyaml>=5.3.1 in /usr/local/lib/python3.9/dist-packages (from ir-datasets->ranx) (6.0)\n",
            "Requirement already satisfied: beautifulsoup4>=4.4.1 in /usr/local/lib/python3.9/dist-packages (from ir-datasets->ranx) (4.11.2)\n",
            "Requirement already satisfied: unlzw3>=0.2.1 in /usr/local/lib/python3.9/dist-packages (from ir-datasets->ranx) (0.2.2)\n",
            "Requirement already satisfied: pyautocorpus>=0.1.1 in /usr/local/lib/python3.9/dist-packages (from ir-datasets->ranx) (0.1.9)\n",
            "Requirement already satisfied: lxml>=4.5.2 in /usr/local/lib/python3.9/dist-packages (from ir-datasets->ranx) (4.9.2)\n",
            "Requirement already satisfied: ijson>=3.1.3 in /usr/local/lib/python3.9/dist-packages (from ir-datasets->ranx) (3.2.0.post0)\n",
            "Requirement already satisfied: warc3-wet-clueweb09>=0.2.5 in /usr/local/lib/python3.9/dist-packages (from ir-datasets->ranx) (0.2.5)\n",
            "Requirement already satisfied: requests>=2.22.0 in /usr/local/lib/python3.9/dist-packages (from ir-datasets->ranx) (2.27.1)\n",
            "Requirement already satisfied: pytz>=2020.1 in /usr/local/lib/python3.9/dist-packages (from pandas->ranx) (2022.7.1)\n",
            "Requirement already satisfied: python-dateutil>=2.8.1 in /usr/local/lib/python3.9/dist-packages (from pandas->ranx) (2.8.2)\n",
            "Requirement already satisfied: pygments<3.0.0,>=2.13.0 in /usr/local/lib/python3.9/dist-packages (from rich->ranx) (2.14.0)\n",
            "Requirement already satisfied: markdown-it-py<3.0.0,>=2.2.0 in /usr/local/lib/python3.9/dist-packages (from rich->ranx) (2.2.0)\n",
            "Requirement already satisfied: soupsieve>1.2 in /usr/local/lib/python3.9/dist-packages (from beautifulsoup4>=4.4.1->ir-datasets->ranx) (2.4.1)\n",
            "Requirement already satisfied: mdurl~=0.1 in /usr/local/lib/python3.9/dist-packages (from markdown-it-py<3.0.0,>=2.2.0->rich->ranx) (0.1.2)\n",
            "Requirement already satisfied: six>=1.5 in /usr/local/lib/python3.9/dist-packages (from python-dateutil>=2.8.1->pandas->ranx) (1.16.0)\n",
            "Requirement already satisfied: idna<4,>=2.5 in /usr/local/lib/python3.9/dist-packages (from requests>=2.22.0->ir-datasets->ranx) (3.4)\n",
            "Requirement already satisfied: urllib3<1.27,>=1.21.1 in /usr/local/lib/python3.9/dist-packages (from requests>=2.22.0->ir-datasets->ranx) (1.26.15)\n",
            "Requirement already satisfied: certifi>=2017.4.17 in /usr/local/lib/python3.9/dist-packages (from requests>=2.22.0->ir-datasets->ranx) (2022.12.7)\n",
            "Requirement already satisfied: charset-normalizer~=2.0.0 in /usr/local/lib/python3.9/dist-packages (from requests>=2.22.0->ir-datasets->ranx) (2.0.12)\n",
            "Requirement already satisfied: cbor>=1.0.0 in /usr/local/lib/python3.9/dist-packages (from trec-car-tools>=2.5.4->ir-datasets->ranx) (1.0.0)\n",
            "Installing collected packages: orjson, cbor2, ranx\n",
            "Successfully installed cbor2-5.4.6 orjson-3.8.10 ranx-0.3.7\n"
          ]
        }
      ]
    },
    {
      "cell_type": "code",
      "source": [
        "import csv\n",
        "\n",
        "file_path = \"duplicate_questions.tsv\"\n",
        "result_qrel = \"qrel_similar.tsv\"\n",
        "\n",
        "with open(result_qrel, 'w', newline='') as tsvfile:\n",
        "  writer = csv.writer(tsvfile, delimiter='\\t', lineterminator='\\n')\n",
        "  with open(file_path, encoding=\"utf-8\") as fd:\n",
        "    rd = csv.reader(fd, delimiter=\"\\t\", quotechar='\"')\n",
        "    for row in rd:\n",
        "        question_id = int(row[0])\n",
        "        lst_similar = list(map(int, row[1:]))\n",
        "        for sim_qid in lst_similar:\n",
        "          writer.writerow([str(question_id), \"0\", str(sim_qid), \"1\"])"
      ],
      "metadata": {
        "id": "Tw_nB3F9W8Uc"
      },
      "execution_count": 10,
      "outputs": []
    },
    {
      "cell_type": "code",
      "source": [
        "from ranx import Qrels, Run, evaluate\n",
        "\n",
        "# Note running ranx for the first time will be a bit slow\n",
        "qrels = Qrels.from_file(\"qrel_similar.tsv\", kind=\"trec\")\n",
        "run = Run.from_file(\"similar_questions_results.txt\", kind=\"trec\")\n",
        "\n",
        "print(evaluate(qrels, run, \"precision@1\"))\n",
        "evaluate(qrels, run, [\"precision@1\", \"mrr@20\"])\n",
        "# default results\n",
        "# {'precision@1': 0.02127659574468085, 'mrr@20': 0.13619857875012345}"
      ],
      "metadata": {
        "id": "YsYit1klWA_0",
        "colab": {
          "base_uri": "https://localhost:8080/"
        },
        "outputId": "34c8e15f-b5a1-42a2-a13a-98d67cca4da0"
      },
      "execution_count": 11,
      "outputs": [
        {
          "output_type": "stream",
          "name": "stdout",
          "text": [
            "0.03900709219858156\n"
          ]
        },
        {
          "output_type": "execute_result",
          "data": {
            "text/plain": [
              "{'precision@1': 0.03900709219858156, 'mrr@20': 0.15685095668298357}"
            ]
          },
          "metadata": {},
          "execution_count": 11
        }
      ]
    },
    {
      "cell_type": "code",
      "source": [
        "#per query results\n",
        "evaluate(qrels, run, [\"precision@1\", \"mrr@20\"], return_mean=False)\n",
        "# 5 10 25 all 1"
      ],
      "metadata": {
        "id": "vCW_ZJDTYeK2",
        "colab": {
          "base_uri": "https://localhost:8080/"
        },
        "outputId": "04bbe4ea-e822-4266-b6c0-6eba5a428da4"
      },
      "execution_count": 12,
      "outputs": [
        {
          "output_type": "execute_result",
          "data": {
            "text/plain": [
              "{'precision@1': array([0., 0., 0., 0., 1., 0., 0., 0., 0., 1., 0., 0., 0., 0., 0., 0., 0.,\n",
              "        0., 0., 0., 0., 1., 0., 0., 1., 0., 0., 0., 0., 0., 0., 0., 0., 0.,\n",
              "        0., 0., 0., 0., 0., 0., 0., 0., 0., 0., 0., 0., 0., 0., 0., 0., 0.,\n",
              "        0., 0., 0., 0., 0., 0., 0., 0., 0., 0., 0., 0., 0., 0., 0., 0., 0.,\n",
              "        0., 0., 0., 0., 0., 0., 0., 0., 0., 0., 0., 0., 0., 0., 0., 0., 0.,\n",
              "        0., 0., 0., 0., 0., 0., 0., 0., 0., 0., 0., 0., 0., 0., 0., 0., 0.,\n",
              "        0., 0., 0., 0., 0., 0., 0., 0., 0., 0., 0., 0., 0., 1., 0., 0., 0.,\n",
              "        0., 0., 0., 1., 0., 0., 0., 0., 0., 0., 0., 0., 0., 0., 0., 0., 0.,\n",
              "        0., 0., 0., 0., 0., 0., 0., 0., 0., 0., 0., 0., 0., 0., 0., 0., 0.,\n",
              "        0., 0., 0., 0., 0., 0., 0., 0., 0., 0., 0., 0., 0., 0., 1., 0., 0.,\n",
              "        0., 0., 0., 0., 0., 0., 0., 0., 0., 0., 0., 0., 0., 0., 0., 0., 0.,\n",
              "        0., 0., 0., 0., 0., 1., 0., 0., 0., 0., 0., 0., 0., 0., 0., 0., 0.,\n",
              "        0., 0., 0., 0., 0., 0., 0., 0., 0., 0., 0., 0., 0., 0., 0., 0., 0.,\n",
              "        0., 0., 0., 0., 0., 0., 0., 0., 0., 0., 0., 0., 0., 0., 0., 0., 0.,\n",
              "        0., 0., 0., 0., 0., 0., 0., 0., 0., 0., 0., 0., 1., 0., 0., 0., 0.,\n",
              "        0., 0., 0., 0., 0., 0., 0., 0., 1., 0., 0., 0., 0., 0., 0., 0., 0.,\n",
              "        0., 0., 0., 0., 1., 0., 0., 0., 0., 0.]),\n",
              " 'mrr@20': array([0.        , 0.1       , 0.        , 0.        , 1.        ,\n",
              "        0.        , 0.25      , 0.25      , 0.        , 1.        ,\n",
              "        0.        , 0.2       , 0.08333333, 0.25      , 0.        ,\n",
              "        0.        , 0.        , 0.        , 0.5       , 0.2       ,\n",
              "        0.2       , 1.        , 0.        , 0.33333333, 1.        ,\n",
              "        0.        , 0.08333333, 0.        , 0.        , 0.        ,\n",
              "        0.        , 0.        , 0.        , 0.        , 0.5       ,\n",
              "        0.33333333, 0.16666667, 0.        , 0.        , 0.11111111,\n",
              "        0.        , 0.5       , 0.        , 0.        , 0.0625    ,\n",
              "        0.        , 0.        , 0.        , 0.        , 0.        ,\n",
              "        0.        , 0.        , 0.        , 0.25      , 0.5       ,\n",
              "        0.08333333, 0.        , 0.        , 0.1       , 0.        ,\n",
              "        0.        , 0.        , 0.        , 0.        , 0.33333333,\n",
              "        0.16666667, 0.        , 0.        , 0.        , 0.        ,\n",
              "        0.        , 0.07692308, 0.2       , 0.        , 0.        ,\n",
              "        0.0625    , 0.5       , 0.09090909, 0.5       , 0.        ,\n",
              "        0.16666667, 0.        , 0.        , 0.5       , 0.        ,\n",
              "        0.5       , 0.2       , 0.        , 0.        , 0.        ,\n",
              "        0.5       , 0.5       , 0.        , 0.        , 0.5       ,\n",
              "        0.        , 0.2       , 0.125     , 0.33333333, 0.5       ,\n",
              "        0.5       , 0.16666667, 0.        , 0.        , 0.2       ,\n",
              "        0.09090909, 0.        , 0.        , 0.        , 0.        ,\n",
              "        0.        , 0.        , 0.2       , 0.        , 0.        ,\n",
              "        1.        , 0.        , 0.        , 0.        , 0.        ,\n",
              "        0.        , 0.        , 1.        , 0.25      , 0.25      ,\n",
              "        0.16666667, 0.125     , 0.        , 0.        , 0.        ,\n",
              "        0.05263158, 0.        , 0.06666667, 0.5       , 0.        ,\n",
              "        0.        , 0.        , 0.        , 0.        , 0.14285714,\n",
              "        0.25      , 0.        , 0.        , 0.        , 0.25      ,\n",
              "        0.        , 0.33333333, 0.        , 0.        , 0.        ,\n",
              "        0.11111111, 0.07142857, 0.        , 0.33333333, 0.5       ,\n",
              "        0.        , 0.        , 0.        , 0.09090909, 0.        ,\n",
              "        0.        , 0.        , 0.125     , 0.        , 0.09090909,\n",
              "        0.        , 0.        , 1.        , 0.        , 0.        ,\n",
              "        0.        , 0.        , 0.        , 0.0625    , 0.        ,\n",
              "        0.        , 0.25      , 0.        , 0.        , 0.        ,\n",
              "        0.        , 0.33333333, 0.        , 0.        , 0.14285714,\n",
              "        0.06666667, 0.        , 0.        , 0.5       , 0.        ,\n",
              "        0.        , 0.        , 1.        , 0.        , 0.        ,\n",
              "        0.        , 0.        , 0.5       , 0.        , 0.        ,\n",
              "        0.5       , 0.06666667, 0.33333333, 0.        , 0.5       ,\n",
              "        0.33333333, 0.        , 0.33333333, 0.16666667, 0.        ,\n",
              "        0.        , 0.        , 0.05263158, 0.        , 0.5       ,\n",
              "        0.5       , 0.        , 0.        , 0.        , 0.5       ,\n",
              "        0.5       , 0.5       , 0.        , 0.25      , 0.5       ,\n",
              "        0.        , 0.        , 0.        , 0.09090909, 0.        ,\n",
              "        0.        , 0.5       , 0.0625    , 0.06666667, 0.        ,\n",
              "        0.        , 0.07142857, 0.5       , 0.5       , 0.33333333,\n",
              "        0.5       , 0.125     , 0.33333333, 0.5       , 0.        ,\n",
              "        0.5       , 0.        , 0.        , 0.        , 0.5       ,\n",
              "        1.        , 0.        , 0.16666667, 0.        , 0.        ,\n",
              "        0.        , 0.33333333, 0.5       , 0.        , 0.        ,\n",
              "        0.5       , 0.25      , 0.33333333, 1.        , 0.11111111,\n",
              "        0.        , 0.16666667, 0.2       , 0.        , 0.33333333,\n",
              "        0.5       , 0.5       , 0.16666667, 0.25      , 0.        ,\n",
              "        0.        , 1.        , 0.        , 0.5       , 0.        ,\n",
              "        0.5       , 0.06666667])}"
            ]
          },
          "metadata": {},
          "execution_count": 12
        }
      ]
    }
  ]
}